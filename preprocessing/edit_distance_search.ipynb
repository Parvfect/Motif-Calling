{
 "cells": [
  {
   "cell_type": "markdown",
   "id": "24f81990",
   "metadata": {},
   "source": [
    "# Edit distance search\n",
    "Manipulating inference results, creating training and testing labels"
   ]
  },
  {
   "cell_type": "code",
   "execution_count": 104,
   "id": "b2542dc6",
   "metadata": {},
   "outputs": [],
   "source": [
    "%load_ext autoreload\n",
    "%autoreload 2"
   ]
  },
  {
   "cell_type": "code",
   "execution_count": 13,
   "id": "2d8a23bc",
   "metadata": {},
   "outputs": [],
   "source": [
    "import pandas as pd\n",
    "from tqdm import tqdm\n",
    "import os"
   ]
  },
  {
   "cell_type": "code",
   "execution_count": 111,
   "id": "f2b9eeec",
   "metadata": {},
   "outputs": [],
   "source": [
    "basepath = r\"C:\\Users\\Parv\\Doc\\HelixWorks\\Basecalling\\code\\motifcaller\\data\\empirical\\edit_distance_motif_search\\res-loose-chain.txt\""
   ]
  },
  {
   "cell_type": "code",
   "execution_count": 94,
   "id": "5bd980c2",
   "metadata": {},
   "outputs": [],
   "source": [
    "def clean_prediction(edit_motif_search_prediction):\n",
    "\n",
    "    cleaned_prediction = []\n",
    "    for i in edit_motif_search_prediction:\n",
    "        if i == 'fake':\n",
    "            cleaned_prediction.append([])\n",
    "        else:\n",
    "            cleaned_prediction.append([int(i[1])])\n",
    "\n",
    "    return cleaned_prediction"
   ]
  },
  {
   "cell_type": "code",
   "execution_count": 95,
   "id": "d22975d0",
   "metadata": {},
   "outputs": [],
   "source": [
    "\n",
    "def get_edit_dataframe(edit_inference_filename):\n",
    "\n",
    "    with open(edit_inference_filename, 'r') as f:\n",
    "        lines = f.readlines()\n",
    "\n",
    "    motif_predictions = []\n",
    "    orientations = []\n",
    "    read_ids = []\n",
    "    ont_barcode = []\n",
    "\n",
    "    for line in tqdm(lines):\n",
    "        split_line = line.split()\n",
    "        read_id = split_line[0][3:]\n",
    "        orientation = split_line[1]\n",
    "        prediction = split_line[4][8:].split('->')\n",
    "        if not (prediction[0].startswith('f') or prediction[0].startswith('m')):\n",
    "            prediction = prediction[1:]\n",
    "\n",
    "        cleaned_prediction = clean_prediction(prediction)\n",
    "        \n",
    "        motif_predictions.append(cleaned_prediction)\n",
    "        orientations.append(orientation)\n",
    "        read_ids.append(read_id)\n",
    "    \n",
    "    df = pd.DataFrame({\"read_id\": read_ids, \"orientation\": orientations, \"motif_seq\": motif_predictions})\n",
    "    df = df.drop_duplicates(subset=['read_id'])\n",
    "    return df"
   ]
  },
  {
   "cell_type": "code",
   "execution_count": 112,
   "id": "8f9595b2",
   "metadata": {},
   "outputs": [
    {
     "name": "stderr",
     "output_type": "stream",
     "text": [
      "100%|██████████| 590137/590137 [00:06<00:00, 87997.00it/s] \n"
     ]
    }
   ],
   "source": [
    "df = get_edit_dataframe(basepath)"
   ]
  },
  {
   "cell_type": "code",
   "execution_count": 113,
   "id": "d771a5f4",
   "metadata": {},
   "outputs": [],
   "source": [
    "dil = pd.read_pickle(r\"C:\\Users\\Parv\\Doc\\HelixWorks\\Basecalling\\code\\motifcaller\\data\\empirical\\full_datasets\\diluted_EIC04.pkl\")"
   ]
  },
  {
   "cell_type": "code",
   "execution_count": 114,
   "id": "eeef7024",
   "metadata": {},
   "outputs": [],
   "source": [
    "merged = pd.merge(dil, df, on='read_id')"
   ]
  },
  {
   "cell_type": "code",
   "execution_count": 115,
   "id": "93f04eea",
   "metadata": {},
   "outputs": [
    {
     "data": {
      "text/plain": [
       "7168"
      ]
     },
     "execution_count": 115,
     "metadata": {},
     "output_type": "execute_result"
    }
   ],
   "source": [
    "len(merged)"
   ]
  },
  {
   "cell_type": "code",
   "execution_count": 102,
   "id": "e41f0114",
   "metadata": {},
   "outputs": [
    {
     "data": {
      "text/html": [
       "<div>\n",
       "<style scoped>\n",
       "    .dataframe tbody tr th:only-of-type {\n",
       "        vertical-align: middle;\n",
       "    }\n",
       "\n",
       "    .dataframe tbody tr th {\n",
       "        vertical-align: top;\n",
       "    }\n",
       "\n",
       "    .dataframe thead th {\n",
       "        text-align: right;\n",
       "    }\n",
       "</style>\n",
       "<table border=\"1\" class=\"dataframe\">\n",
       "  <thead>\n",
       "    <tr style=\"text-align: right;\">\n",
       "      <th></th>\n",
       "      <th>read_id</th>\n",
       "      <th>ONT_Barcode</th>\n",
       "      <th>HW_Address</th>\n",
       "      <th>orientation</th>\n",
       "      <th>start_end</th>\n",
       "      <th>library_motif</th>\n",
       "      <th>payload</th>\n",
       "      <th>motif_seq</th>\n",
       "    </tr>\n",
       "  </thead>\n",
       "  <tbody>\n",
       "    <tr>\n",
       "      <th>0</th>\n",
       "      <td>7b39274b-81b1-4805-a9fc-190bb8d891d3</td>\n",
       "      <td>46</td>\n",
       "      <td>barcode_external01_internal01</td>\n",
       "      <td>+</td>\n",
       "      <td>169-218</td>\n",
       "      <td>ltm8_9x4</td>\n",
       "      <td>[[1, 2, 4, 5], [2, 4, 6, 7], [1, 2, 4, 7], [2,...</td>\n",
       "      <td>[[], [], [], [], [], [], [], [1], [4], [7]]</td>\n",
       "    </tr>\n",
       "    <tr>\n",
       "      <th>1</th>\n",
       "      <td>924ac149-e623-4720-a0fb-a987a24002e0</td>\n",
       "      <td>46</td>\n",
       "      <td>barcode_external01_internal01</td>\n",
       "      <td>+</td>\n",
       "      <td>160-209</td>\n",
       "      <td>ltm8_2x1</td>\n",
       "      <td>[[1, 2, 4, 5], [2, 4, 6, 7], [1, 2, 4, 7], [2,...</td>\n",
       "      <td>[[1], [1], [4], [7], [], [], [], [], [], []]</td>\n",
       "    </tr>\n",
       "    <tr>\n",
       "      <th>2</th>\n",
       "      <td>a6a50746-43fa-4d6c-8e1c-4fd7c607d43b</td>\n",
       "      <td>46</td>\n",
       "      <td>barcode_external01_internal01</td>\n",
       "      <td>+</td>\n",
       "      <td>449-498</td>\n",
       "      <td>ltm8_9x1</td>\n",
       "      <td>[[1, 2, 4, 5], [2, 4, 6, 7], [1, 2, 4, 7], [2,...</td>\n",
       "      <td>[[], [], [], [], [1], [5], [], [3], [1], [1]]</td>\n",
       "    </tr>\n",
       "    <tr>\n",
       "      <th>3</th>\n",
       "      <td>00a5e32f-6e95-47c6-b009-4ce1bcc8d812</td>\n",
       "      <td>46</td>\n",
       "      <td>barcode_external01_internal03</td>\n",
       "      <td>+</td>\n",
       "      <td>285-334</td>\n",
       "      <td>ltm8_6x8</td>\n",
       "      <td>[[2, 5, 6, 8], [2, 3, 6, 8], [1, 3, 5, 8], [2,...</td>\n",
       "      <td>[[], [], [], [], [8], [8], [1], [3], [], []]</td>\n",
       "    </tr>\n",
       "    <tr>\n",
       "      <th>4</th>\n",
       "      <td>9438a513-1fcb-4cb2-a1b3-84c62c5541a7</td>\n",
       "      <td>46</td>\n",
       "      <td>barcode_external01_internal03</td>\n",
       "      <td>+</td>\n",
       "      <td>85-134</td>\n",
       "      <td>ltm8_6x4</td>\n",
       "      <td>[[2, 5, 6, 8], [2, 3, 6, 8], [1, 3, 5, 8], [2,...</td>\n",
       "      <td>[[], [], [], [], [], [4], [1], [3], [6], []]</td>\n",
       "    </tr>\n",
       "    <tr>\n",
       "      <th>...</th>\n",
       "      <td>...</td>\n",
       "      <td>...</td>\n",
       "      <td>...</td>\n",
       "      <td>...</td>\n",
       "      <td>...</td>\n",
       "      <td>...</td>\n",
       "      <td>...</td>\n",
       "      <td>...</td>\n",
       "    </tr>\n",
       "    <tr>\n",
       "      <th>792</th>\n",
       "      <td>63d17596-dedf-404a-af20-b00d857825ba</td>\n",
       "      <td>80</td>\n",
       "      <td>barcode_external07_internal01</td>\n",
       "      <td>-</td>\n",
       "      <td>89-138</td>\n",
       "      <td>ltm8_7x7</td>\n",
       "      <td>[[3, 4, 6, 7], [1, 4, 5, 8], [2, 3, 7, 8], [5,...</td>\n",
       "      <td>[[7], [1], [7], [1], [7], [7], [7], [], [], []]</td>\n",
       "    </tr>\n",
       "    <tr>\n",
       "      <th>793</th>\n",
       "      <td>3dfcebf6-cd15-481d-9737-9c7e3f72bc37</td>\n",
       "      <td>80</td>\n",
       "      <td>barcode_external07_internal04</td>\n",
       "      <td>+</td>\n",
       "      <td>306-355</td>\n",
       "      <td>ltm8_6x5</td>\n",
       "      <td>[[2, 3, 5, 8], [1, 2, 6, 8], [2, 3, 6, 7], [5,...</td>\n",
       "      <td>[[], [], [], [2], [6], [5], [4], [5], [], []]</td>\n",
       "    </tr>\n",
       "    <tr>\n",
       "      <th>794</th>\n",
       "      <td>f5bb5068-f5ac-4273-a175-e0cb9708e71f</td>\n",
       "      <td>80</td>\n",
       "      <td>barcode_external07_internal05</td>\n",
       "      <td>-</td>\n",
       "      <td>350-399</td>\n",
       "      <td>ltm8_5x4</td>\n",
       "      <td>[[1, 3, 4, 6], [3, 5, 7, 8], [1, 2, 4, 8], [2,...</td>\n",
       "      <td>[[7], [5], [3], [7], [4], [4], [3], [6], [5], []]</td>\n",
       "    </tr>\n",
       "    <tr>\n",
       "      <th>795</th>\n",
       "      <td>860a94f3-088c-426a-a3b7-85f4d9f7d8e8</td>\n",
       "      <td>80</td>\n",
       "      <td>barcode_external07_internal07</td>\n",
       "      <td>+</td>\n",
       "      <td>110-159</td>\n",
       "      <td>ltm8_1x7</td>\n",
       "      <td>[[2, 3, 5, 8], [1, 3, 5, 6], [2, 3, 5, 6], [2,...</td>\n",
       "      <td>[[7], [7], [3], [], [5], [5], [3], [], [], []]</td>\n",
       "    </tr>\n",
       "    <tr>\n",
       "      <th>796</th>\n",
       "      <td>a5b0b28d-ad5d-462a-910c-3df30f184e8d</td>\n",
       "      <td>80</td>\n",
       "      <td>barcode_external07_internal08</td>\n",
       "      <td>-</td>\n",
       "      <td>244-293</td>\n",
       "      <td>ltm8_2x8</td>\n",
       "      <td>[[1, 2, 3, 4], [1, 2, 3, 4], [1, 2, 3, 4], [1,...</td>\n",
       "      <td>[[7], [8], [2], [4], [3], [], [], [], [], []]</td>\n",
       "    </tr>\n",
       "  </tbody>\n",
       "</table>\n",
       "<p>797 rows × 8 columns</p>\n",
       "</div>"
      ],
      "text/plain": [
       "                                  read_id  ONT_Barcode  \\\n",
       "0    7b39274b-81b1-4805-a9fc-190bb8d891d3           46   \n",
       "1    924ac149-e623-4720-a0fb-a987a24002e0           46   \n",
       "2    a6a50746-43fa-4d6c-8e1c-4fd7c607d43b           46   \n",
       "3    00a5e32f-6e95-47c6-b009-4ce1bcc8d812           46   \n",
       "4    9438a513-1fcb-4cb2-a1b3-84c62c5541a7           46   \n",
       "..                                    ...          ...   \n",
       "792  63d17596-dedf-404a-af20-b00d857825ba           80   \n",
       "793  3dfcebf6-cd15-481d-9737-9c7e3f72bc37           80   \n",
       "794  f5bb5068-f5ac-4273-a175-e0cb9708e71f           80   \n",
       "795  860a94f3-088c-426a-a3b7-85f4d9f7d8e8           80   \n",
       "796  a5b0b28d-ad5d-462a-910c-3df30f184e8d           80   \n",
       "\n",
       "                        HW_Address orientation start_end library_motif  \\\n",
       "0    barcode_external01_internal01           +   169-218      ltm8_9x4   \n",
       "1    barcode_external01_internal01           +   160-209      ltm8_2x1   \n",
       "2    barcode_external01_internal01           +   449-498      ltm8_9x1   \n",
       "3    barcode_external01_internal03           +   285-334      ltm8_6x8   \n",
       "4    barcode_external01_internal03           +    85-134      ltm8_6x4   \n",
       "..                             ...         ...       ...           ...   \n",
       "792  barcode_external07_internal01           -    89-138      ltm8_7x7   \n",
       "793  barcode_external07_internal04           +   306-355      ltm8_6x5   \n",
       "794  barcode_external07_internal05           -   350-399      ltm8_5x4   \n",
       "795  barcode_external07_internal07           +   110-159      ltm8_1x7   \n",
       "796  barcode_external07_internal08           -   244-293      ltm8_2x8   \n",
       "\n",
       "                                               payload  \\\n",
       "0    [[1, 2, 4, 5], [2, 4, 6, 7], [1, 2, 4, 7], [2,...   \n",
       "1    [[1, 2, 4, 5], [2, 4, 6, 7], [1, 2, 4, 7], [2,...   \n",
       "2    [[1, 2, 4, 5], [2, 4, 6, 7], [1, 2, 4, 7], [2,...   \n",
       "3    [[2, 5, 6, 8], [2, 3, 6, 8], [1, 3, 5, 8], [2,...   \n",
       "4    [[2, 5, 6, 8], [2, 3, 6, 8], [1, 3, 5, 8], [2,...   \n",
       "..                                                 ...   \n",
       "792  [[3, 4, 6, 7], [1, 4, 5, 8], [2, 3, 7, 8], [5,...   \n",
       "793  [[2, 3, 5, 8], [1, 2, 6, 8], [2, 3, 6, 7], [5,...   \n",
       "794  [[1, 3, 4, 6], [3, 5, 7, 8], [1, 2, 4, 8], [2,...   \n",
       "795  [[2, 3, 5, 8], [1, 3, 5, 6], [2, 3, 5, 6], [2,...   \n",
       "796  [[1, 2, 3, 4], [1, 2, 3, 4], [1, 2, 3, 4], [1,...   \n",
       "\n",
       "                                             motif_seq  \n",
       "0          [[], [], [], [], [], [], [], [1], [4], [7]]  \n",
       "1         [[1], [1], [4], [7], [], [], [], [], [], []]  \n",
       "2        [[], [], [], [], [1], [5], [], [3], [1], [1]]  \n",
       "3         [[], [], [], [], [8], [8], [1], [3], [], []]  \n",
       "4         [[], [], [], [], [], [4], [1], [3], [6], []]  \n",
       "..                                                 ...  \n",
       "792    [[7], [1], [7], [1], [7], [7], [7], [], [], []]  \n",
       "793      [[], [], [], [2], [6], [5], [4], [5], [], []]  \n",
       "794  [[7], [5], [3], [7], [4], [4], [3], [6], [5], []]  \n",
       "795     [[7], [7], [3], [], [5], [5], [3], [], [], []]  \n",
       "796      [[7], [8], [2], [4], [3], [], [], [], [], []]  \n",
       "\n",
       "[797 rows x 8 columns]"
      ]
     },
     "execution_count": 102,
     "metadata": {},
     "output_type": "execute_result"
    }
   ],
   "source": [
    "merged"
   ]
  },
  {
   "cell_type": "code",
   "execution_count": 22,
   "id": "663eb34e",
   "metadata": {},
   "outputs": [
    {
     "data": {
      "text/plain": [
       "array([46, 66, 74, 78, 47, 67, 75, 79, 48, 68, 76, 80])"
      ]
     },
     "execution_count": 22,
     "metadata": {},
     "output_type": "execute_result"
    }
   ],
   "source": [
    "merged['ONT_Barcode'].unique()"
   ]
  },
  {
   "cell_type": "code",
   "execution_count": 23,
   "id": "dbf04c21",
   "metadata": {},
   "outputs": [
    {
     "name": "stderr",
     "output_type": "stream",
     "text": [
      "100%|██████████| 10000/10000 [00:00<00:00, 148715.20it/s]\n",
      "100%|██████████| 10000/10000 [00:00<00:00, 194001.11it/s]\n",
      "100%|██████████| 10000/10000 [00:00<00:00, 159600.00it/s]\n",
      "100%|██████████| 10000/10000 [00:00<00:00, 172109.31it/s]\n",
      "100%|██████████| 10000/10000 [00:00<00:00, 175856.64it/s]\n",
      "100%|██████████| 10000/10000 [00:00<00:00, 173860.76it/s]\n",
      "100%|██████████| 10000/10000 [00:00<00:00, 181827.42it/s]\n",
      "100%|██████████| 10000/10000 [00:00<00:00, 171352.05it/s]\n",
      "100%|██████████| 10000/10000 [00:00<00:00, 166556.30it/s]\n",
      "100%|██████████| 10000/10000 [00:00<00:00, 183387.21it/s]\n",
      "100%|██████████| 10/10 [00:00<00:00, 11.23it/s]\n"
     ]
    }
   ],
   "source": [
    "master_df = pd.DataFrame()\n",
    "\n",
    "for file in tqdm(os.listdir(basepath)):\n",
    "    df = get_edit_dataframe(os.path.join(basepath, file))\n",
    "    master_df = pd.concat([master_df, df])"
   ]
  },
  {
   "cell_type": "code",
   "execution_count": 10,
   "id": "74f2d5a6",
   "metadata": {},
   "outputs": [],
   "source": [
    "master_df.to_pickle(r\"C:\\Users\\Parv\\Doc\\HelixWorks\\Basecalling\\code\\motifcaller\\data\\empirical\\01-04run\\edit_medium.pkl\")"
   ]
  },
  {
   "cell_type": "markdown",
   "id": "12e786bb",
   "metadata": {},
   "source": [
    "## Balancing edit-train df"
   ]
  },
  {
   "cell_type": "code",
   "execution_count": 5,
   "id": "f037624e",
   "metadata": {},
   "outputs": [],
   "source": [
    "from data_functions import get_cleaned_encoded_file"
   ]
  },
  {
   "cell_type": "code",
   "execution_count": 6,
   "id": "237b306d",
   "metadata": {},
   "outputs": [],
   "source": [
    "encoded_df = pd.read_csv(r\"C:\\Users\\Parv\\Doc\\HelixWorks\\Basecalling\\code\\motifcaller\\data\\empirical\\EIC01-01-1280-T1_encoded.tsv\", sep='\\t')"
   ]
  },
  {
   "cell_type": "code",
   "execution_count": 136,
   "id": "8a66867b",
   "metadata": {},
   "outputs": [],
   "source": [
    "t = get_cleaned_encoded_file(encoded_df)"
   ]
  },
  {
   "cell_type": "code",
   "execution_count": 137,
   "id": "0e026633",
   "metadata": {},
   "outputs": [],
   "source": [
    "t = t[['ONT_Barcode', 'HW_Address', 'payload']]"
   ]
  },
  {
   "cell_type": "code",
   "execution_count": 9,
   "id": "a4ee2ef3",
   "metadata": {},
   "outputs": [
    {
     "data": {
      "text/html": [
       "<div>\n",
       "<style scoped>\n",
       "    .dataframe tbody tr th:only-of-type {\n",
       "        vertical-align: middle;\n",
       "    }\n",
       "\n",
       "    .dataframe tbody tr th {\n",
       "        vertical-align: top;\n",
       "    }\n",
       "\n",
       "    .dataframe thead th {\n",
       "        text-align: right;\n",
       "    }\n",
       "</style>\n",
       "<table border=\"1\" class=\"dataframe\">\n",
       "  <thead>\n",
       "    <tr style=\"text-align: right;\">\n",
       "      <th></th>\n",
       "      <th>ONT_Barcode</th>\n",
       "      <th>HW_Address</th>\n",
       "      <th>payload</th>\n",
       "    </tr>\n",
       "  </thead>\n",
       "  <tbody>\n",
       "    <tr>\n",
       "      <th>0</th>\n",
       "      <td>1</td>\n",
       "      <td>barcode_external01_internal01</td>\n",
       "      <td>[[2, 3, 4, 5], [1, 2, 7, 8], [1, 4, 5, 6], [4,...</td>\n",
       "    </tr>\n",
       "    <tr>\n",
       "      <th>1</th>\n",
       "      <td>1</td>\n",
       "      <td>barcode_external02_internal01</td>\n",
       "      <td>[[3, 4, 7, 8], [2, 3, 4, 8], [2, 4, 6, 7], [1,...</td>\n",
       "    </tr>\n",
       "    <tr>\n",
       "      <th>2</th>\n",
       "      <td>1</td>\n",
       "      <td>barcode_external03_internal01</td>\n",
       "      <td>[[1, 3, 5, 8], [2, 4, 5, 6], [1, 5, 6, 8], [1,...</td>\n",
       "    </tr>\n",
       "    <tr>\n",
       "      <th>3</th>\n",
       "      <td>1</td>\n",
       "      <td>barcode_external04_internal01</td>\n",
       "      <td>[[1, 4, 5, 8], [3, 4, 7, 8], [1, 4, 7, 8], [1,...</td>\n",
       "    </tr>\n",
       "    <tr>\n",
       "      <th>4</th>\n",
       "      <td>1</td>\n",
       "      <td>barcode_external05_internal01</td>\n",
       "      <td>[[2, 4, 5, 6], [3, 4, 6, 7], [4, 5, 6, 8], [1,...</td>\n",
       "    </tr>\n",
       "    <tr>\n",
       "      <th>...</th>\n",
       "      <td>...</td>\n",
       "      <td>...</td>\n",
       "      <td>...</td>\n",
       "    </tr>\n",
       "    <tr>\n",
       "      <th>1275</th>\n",
       "      <td>77</td>\n",
       "      <td>barcode_external04_internal08</td>\n",
       "      <td>[[1, 2, 3, 6], [2, 4, 5, 7], [1, 3, 4, 7], [1,...</td>\n",
       "    </tr>\n",
       "    <tr>\n",
       "      <th>1276</th>\n",
       "      <td>77</td>\n",
       "      <td>barcode_external05_internal08</td>\n",
       "      <td>[[4, 6, 7, 8], [1, 2, 4, 8], [3, 4, 5, 7], [2,...</td>\n",
       "    </tr>\n",
       "    <tr>\n",
       "      <th>1277</th>\n",
       "      <td>77</td>\n",
       "      <td>barcode_external06_internal08</td>\n",
       "      <td>[[1, 4, 7, 8], [4, 6, 7, 8], [1, 2, 4, 8], [2,...</td>\n",
       "    </tr>\n",
       "    <tr>\n",
       "      <th>1278</th>\n",
       "      <td>77</td>\n",
       "      <td>barcode_external07_internal08</td>\n",
       "      <td>[[1, 2, 3, 4], [1, 2, 3, 4], [1, 2, 3, 4], [1,...</td>\n",
       "    </tr>\n",
       "    <tr>\n",
       "      <th>1279</th>\n",
       "      <td>77</td>\n",
       "      <td>barcode_external08_internal08</td>\n",
       "      <td>[[1, 2, 3, 4], [1, 2, 3, 4], [1, 2, 3, 4], [1,...</td>\n",
       "    </tr>\n",
       "  </tbody>\n",
       "</table>\n",
       "<p>1280 rows × 3 columns</p>\n",
       "</div>"
      ],
      "text/plain": [
       "      ONT_Barcode                     HW_Address  \\\n",
       "0               1  barcode_external01_internal01   \n",
       "1               1  barcode_external02_internal01   \n",
       "2               1  barcode_external03_internal01   \n",
       "3               1  barcode_external04_internal01   \n",
       "4               1  barcode_external05_internal01   \n",
       "...           ...                            ...   \n",
       "1275           77  barcode_external04_internal08   \n",
       "1276           77  barcode_external05_internal08   \n",
       "1277           77  barcode_external06_internal08   \n",
       "1278           77  barcode_external07_internal08   \n",
       "1279           77  barcode_external08_internal08   \n",
       "\n",
       "                                                payload  \n",
       "0     [[2, 3, 4, 5], [1, 2, 7, 8], [1, 4, 5, 6], [4,...  \n",
       "1     [[3, 4, 7, 8], [2, 3, 4, 8], [2, 4, 6, 7], [1,...  \n",
       "2     [[1, 3, 5, 8], [2, 4, 5, 6], [1, 5, 6, 8], [1,...  \n",
       "3     [[1, 4, 5, 8], [3, 4, 7, 8], [1, 4, 7, 8], [1,...  \n",
       "4     [[2, 4, 5, 6], [3, 4, 6, 7], [4, 5, 6, 8], [1,...  \n",
       "...                                                 ...  \n",
       "1275  [[1, 2, 3, 6], [2, 4, 5, 7], [1, 3, 4, 7], [1,...  \n",
       "1276  [[4, 6, 7, 8], [1, 2, 4, 8], [3, 4, 5, 7], [2,...  \n",
       "1277  [[1, 4, 7, 8], [4, 6, 7, 8], [1, 2, 4, 8], [2,...  \n",
       "1278  [[1, 2, 3, 4], [1, 2, 3, 4], [1, 2, 3, 4], [1,...  \n",
       "1279  [[1, 2, 3, 4], [1, 2, 3, 4], [1, 2, 3, 4], [1,...  \n",
       "\n",
       "[1280 rows x 3 columns]"
      ]
     },
     "execution_count": 9,
     "metadata": {},
     "output_type": "execute_result"
    }
   ],
   "source": [
    "t"
   ]
  },
  {
   "cell_type": "code",
   "execution_count": 10,
   "id": "13790003",
   "metadata": {},
   "outputs": [],
   "source": [
    "edit_train_df = pd.read_pickle(r\"C:\\Users\\Parv\\Doc\\HelixWorks\\Basecalling\\code\\motifcaller\\data\\empirical\\full_datasets\\edit_master_train.pkl\")"
   ]
  },
  {
   "cell_type": "code",
   "execution_count": 11,
   "id": "f3076d6b",
   "metadata": {},
   "outputs": [
    {
     "data": {
      "text/html": [
       "<div>\n",
       "<style scoped>\n",
       "    .dataframe tbody tr th:only-of-type {\n",
       "        vertical-align: middle;\n",
       "    }\n",
       "\n",
       "    .dataframe tbody tr th {\n",
       "        vertical-align: top;\n",
       "    }\n",
       "\n",
       "    .dataframe thead th {\n",
       "        text-align: right;\n",
       "    }\n",
       "</style>\n",
       "<table border=\"1\" class=\"dataframe\">\n",
       "  <thead>\n",
       "    <tr style=\"text-align: right;\">\n",
       "      <th></th>\n",
       "      <th>read_id</th>\n",
       "      <th>ONT_Barcode</th>\n",
       "      <th>HW_Address</th>\n",
       "      <th>orientation</th>\n",
       "      <th>start_end</th>\n",
       "      <th>library_motif</th>\n",
       "      <th>squiggle</th>\n",
       "      <th>motif_seq</th>\n",
       "      <th>strand</th>\n",
       "      <th>payload_motifs_found</th>\n",
       "      <th>edit_spacer_seq</th>\n",
       "      <th>edit_motifs_found</th>\n",
       "      <th>payload</th>\n",
       "    </tr>\n",
       "  </thead>\n",
       "  <tbody>\n",
       "    <tr>\n",
       "      <th>0</th>\n",
       "      <td>0117ec74-7ef1-4e8c-b169-c8ca9a576de4</td>\n",
       "      <td>barcode01</td>\n",
       "      <td>barcode_external01_internal01</td>\n",
       "      <td>+|+|+</td>\n",
       "      <td>75-124|370-419|566-615</td>\n",
       "      <td>ltm8_2x1|ltm8_5x4|ltm8_9x1</td>\n",
       "      <td>[452, 439, 450, 444, 451, 454, 471, 448, 418, ...</td>\n",
       "      <td>[10, 1, 10, 13, 4, 13, 17, 1, 17]</td>\n",
       "      <td>+</td>\n",
       "      <td>3</td>\n",
       "      <td>[10, 1, 10, 11, 1, 11, 12, 3, 12, 13, 1, 13, 1...</td>\n",
       "      <td>9.0</td>\n",
       "      <td>[[2, 3, 4, 5], [1, 2, 7, 8], [1, 4, 5, 6], [4,...</td>\n",
       "    </tr>\n",
       "    <tr>\n",
       "      <th>1</th>\n",
       "      <td>0117ec74-7ef1-4e8c-b169-c8ca9a576de4</td>\n",
       "      <td>barcode01</td>\n",
       "      <td>barcode_external01_internal01</td>\n",
       "      <td>+|+|+</td>\n",
       "      <td>75-124|370-419|566-615</td>\n",
       "      <td>ltm8_2x1|ltm8_5x4|ltm8_9x1</td>\n",
       "      <td>[452, 439, 450, 444, 451, 454, 471, 448, 418, ...</td>\n",
       "      <td>[10, 1, 10, 13, 4, 13, 17, 1, 17]</td>\n",
       "      <td>+</td>\n",
       "      <td>3</td>\n",
       "      <td>[10, 1, 10, 11, 1, 11, 12, 3, 12, 13, 1, 13, 1...</td>\n",
       "      <td>9.0</td>\n",
       "      <td>[[3, 6, 7, 8], [3, 4, 5, 8], [1, 2, 4, 6], [1,...</td>\n",
       "    </tr>\n",
       "    <tr>\n",
       "      <th>2</th>\n",
       "      <td>0117ec74-7ef1-4e8c-b169-c8ca9a576de4</td>\n",
       "      <td>barcode01</td>\n",
       "      <td>barcode_external01_internal01</td>\n",
       "      <td>+|+|+</td>\n",
       "      <td>75-124|370-419|566-615</td>\n",
       "      <td>ltm8_2x1|ltm8_5x4|ltm8_9x1</td>\n",
       "      <td>[452, 439, 450, 444, 451, 454, 471, 448, 418, ...</td>\n",
       "      <td>[10, 1, 10, 13, 4, 13, 17, 1, 17]</td>\n",
       "      <td>+</td>\n",
       "      <td>3</td>\n",
       "      <td>[10, 1, 10, 11, 1, 11, 12, 3, 12, 13, 1, 13, 1...</td>\n",
       "      <td>9.0</td>\n",
       "      <td>[[1, 2, 4, 5], [2, 4, 5, 6], [2, 5, 6, 8], [2,...</td>\n",
       "    </tr>\n",
       "    <tr>\n",
       "      <th>3</th>\n",
       "      <td>0117ec74-7ef1-4e8c-b169-c8ca9a576de4</td>\n",
       "      <td>barcode01</td>\n",
       "      <td>barcode_external01_internal01</td>\n",
       "      <td>+|+|+</td>\n",
       "      <td>75-124|370-419|566-615</td>\n",
       "      <td>ltm8_2x1|ltm8_5x4|ltm8_9x1</td>\n",
       "      <td>[452, 439, 450, 444, 451, 454, 471, 448, 418, ...</td>\n",
       "      <td>[10, 1, 10, 13, 4, 13, 17, 1, 17]</td>\n",
       "      <td>+</td>\n",
       "      <td>3</td>\n",
       "      <td>[10, 1, 10, 11, 1, 11, 12, 3, 12, 13, 1, 13, 1...</td>\n",
       "      <td>9.0</td>\n",
       "      <td>[[2, 3, 4, 8], [3, 5, 6, 7], [2, 3, 7, 8], [2,...</td>\n",
       "    </tr>\n",
       "    <tr>\n",
       "      <th>4</th>\n",
       "      <td>0117ec74-7ef1-4e8c-b169-c8ca9a576de4</td>\n",
       "      <td>barcode01</td>\n",
       "      <td>barcode_external01_internal01</td>\n",
       "      <td>+|+|+</td>\n",
       "      <td>75-124|370-419|566-615</td>\n",
       "      <td>ltm8_2x1|ltm8_5x4|ltm8_9x1</td>\n",
       "      <td>[452, 439, 450, 444, 451, 454, 471, 448, 418, ...</td>\n",
       "      <td>[10, 1, 10, 13, 4, 13, 17, 1, 17]</td>\n",
       "      <td>+</td>\n",
       "      <td>3</td>\n",
       "      <td>[10, 1, 10, 11, 1, 11, 12, 3, 12, 13, 1, 13, 1...</td>\n",
       "      <td>9.0</td>\n",
       "      <td>[[1, 4, 5, 6], [1, 5, 6, 8], [1, 3, 6, 8], [2,...</td>\n",
       "    </tr>\n",
       "  </tbody>\n",
       "</table>\n",
       "</div>"
      ],
      "text/plain": [
       "                                read_id ONT_Barcode  \\\n",
       "0  0117ec74-7ef1-4e8c-b169-c8ca9a576de4   barcode01   \n",
       "1  0117ec74-7ef1-4e8c-b169-c8ca9a576de4   barcode01   \n",
       "2  0117ec74-7ef1-4e8c-b169-c8ca9a576de4   barcode01   \n",
       "3  0117ec74-7ef1-4e8c-b169-c8ca9a576de4   barcode01   \n",
       "4  0117ec74-7ef1-4e8c-b169-c8ca9a576de4   barcode01   \n",
       "\n",
       "                      HW_Address orientation               start_end  \\\n",
       "0  barcode_external01_internal01       +|+|+  75-124|370-419|566-615   \n",
       "1  barcode_external01_internal01       +|+|+  75-124|370-419|566-615   \n",
       "2  barcode_external01_internal01       +|+|+  75-124|370-419|566-615   \n",
       "3  barcode_external01_internal01       +|+|+  75-124|370-419|566-615   \n",
       "4  barcode_external01_internal01       +|+|+  75-124|370-419|566-615   \n",
       "\n",
       "                library_motif  \\\n",
       "0  ltm8_2x1|ltm8_5x4|ltm8_9x1   \n",
       "1  ltm8_2x1|ltm8_5x4|ltm8_9x1   \n",
       "2  ltm8_2x1|ltm8_5x4|ltm8_9x1   \n",
       "3  ltm8_2x1|ltm8_5x4|ltm8_9x1   \n",
       "4  ltm8_2x1|ltm8_5x4|ltm8_9x1   \n",
       "\n",
       "                                            squiggle  \\\n",
       "0  [452, 439, 450, 444, 451, 454, 471, 448, 418, ...   \n",
       "1  [452, 439, 450, 444, 451, 454, 471, 448, 418, ...   \n",
       "2  [452, 439, 450, 444, 451, 454, 471, 448, 418, ...   \n",
       "3  [452, 439, 450, 444, 451, 454, 471, 448, 418, ...   \n",
       "4  [452, 439, 450, 444, 451, 454, 471, 448, 418, ...   \n",
       "\n",
       "                           motif_seq strand  payload_motifs_found  \\\n",
       "0  [10, 1, 10, 13, 4, 13, 17, 1, 17]      +                     3   \n",
       "1  [10, 1, 10, 13, 4, 13, 17, 1, 17]      +                     3   \n",
       "2  [10, 1, 10, 13, 4, 13, 17, 1, 17]      +                     3   \n",
       "3  [10, 1, 10, 13, 4, 13, 17, 1, 17]      +                     3   \n",
       "4  [10, 1, 10, 13, 4, 13, 17, 1, 17]      +                     3   \n",
       "\n",
       "                                     edit_spacer_seq  edit_motifs_found  \\\n",
       "0  [10, 1, 10, 11, 1, 11, 12, 3, 12, 13, 1, 13, 1...                9.0   \n",
       "1  [10, 1, 10, 11, 1, 11, 12, 3, 12, 13, 1, 13, 1...                9.0   \n",
       "2  [10, 1, 10, 11, 1, 11, 12, 3, 12, 13, 1, 13, 1...                9.0   \n",
       "3  [10, 1, 10, 11, 1, 11, 12, 3, 12, 13, 1, 13, 1...                9.0   \n",
       "4  [10, 1, 10, 11, 1, 11, 12, 3, 12, 13, 1, 13, 1...                9.0   \n",
       "\n",
       "                                             payload  \n",
       "0  [[2, 3, 4, 5], [1, 2, 7, 8], [1, 4, 5, 6], [4,...  \n",
       "1  [[3, 6, 7, 8], [3, 4, 5, 8], [1, 2, 4, 6], [1,...  \n",
       "2  [[1, 2, 4, 5], [2, 4, 5, 6], [2, 5, 6, 8], [2,...  \n",
       "3  [[2, 3, 4, 8], [3, 5, 6, 7], [2, 3, 7, 8], [2,...  \n",
       "4  [[1, 4, 5, 6], [1, 5, 6, 8], [1, 3, 6, 8], [2,...  "
      ]
     },
     "execution_count": 11,
     "metadata": {},
     "output_type": "execute_result"
    }
   ],
   "source": [
    "edit_train_df.head()"
   ]
  },
  {
   "cell_type": "code",
   "execution_count": 12,
   "id": "99816031",
   "metadata": {},
   "outputs": [],
   "source": [
    "edit_train_df = edit_train_df.drop(columns=['payload'])"
   ]
  },
  {
   "cell_type": "code",
   "execution_count": 13,
   "id": "613a4804",
   "metadata": {},
   "outputs": [],
   "source": [
    "edit_train_df['ONT_Barcode'] = edit_train_df['ONT_Barcode'].apply(lambda x: int(x[-2:]))"
   ]
  },
  {
   "cell_type": "code",
   "execution_count": 138,
   "id": "9ca1d361",
   "metadata": {},
   "outputs": [],
   "source": [
    "merged_df = pd.merge(filtered_df, t, on=['ONT_Barcode', 'HW_Address'])"
   ]
  },
  {
   "cell_type": "markdown",
   "id": "97c035b1",
   "metadata": {},
   "source": [
    "Steps\n",
    "1. Filter out reads where more than 8 motifs are identified\n",
    "2. Keep the ones with no error\n",
    "3. For the ones with error, check motif search label and encoded to make the perfect label with no errors\n",
    "4. Double check that there are no errors for the whole dataset\n",
    "5. Keep the address motifs identified\n",
    "6. Some data of the distribution of reads"
   ]
  },
  {
   "cell_type": "code",
   "execution_count": 30,
   "id": "0ed47844",
   "metadata": {},
   "outputs": [],
   "source": [
    "filtered_df = merged_df.loc[merged_df['edit_motifs_found'] > 9]"
   ]
  },
  {
   "cell_type": "code",
   "execution_count": 19,
   "id": "630e6ddf",
   "metadata": {},
   "outputs": [],
   "source": [
    "from transcript_sorting import sort_transcript_with_address\n",
    "from utils import evaluate_prediction, create_spacer_sequence_with_address"
   ]
  },
  {
   "cell_type": "code",
   "execution_count": 142,
   "id": "06adec0e",
   "metadata": {},
   "outputs": [
    {
     "name": "stderr",
     "output_type": "stream",
     "text": [
      "C:\\Users\\Parv\\AppData\\Local\\Temp\\ipykernel_16804\\3654313105.py:1: SettingWithCopyWarning: \n",
      "A value is trying to be set on a copy of a slice from a DataFrame.\n",
      "Try using .loc[row_indexer,col_indexer] = value instead\n",
      "\n",
      "See the caveats in the documentation: https://pandas.pydata.org/pandas-docs/stable/user_guide/indexing.html#returning-a-view-versus-a-copy\n",
      "  filtered_df['edit_payload_seq'] = filtered_df['edit_spacer_seq'].apply(lambda x: sort_transcript_with_address(x))\n"
     ]
    }
   ],
   "source": [
    "filtered_df['edit_payload_seq'] = filtered_df['edit_spacer_seq'].apply(lambda x: sort_transcript_with_address(x))"
   ]
  },
  {
   "cell_type": "code",
   "execution_count": 33,
   "id": "f1603155",
   "metadata": {},
   "outputs": [],
   "source": [
    "def remove_erroneous_motifs(prediction, original):\n",
    "    corrected = [[] for i in range(8)]\n",
    "\n",
    "    cycle_num = 0\n",
    "    for i, j in zip(prediction, original):\n",
    "        for k in i:\n",
    "            if k in j:\n",
    "                corrected[cycle_num].append(k)\n",
    "        cycle_num += 1\n",
    "    return corrected"
   ]
  },
  {
   "cell_type": "code",
   "execution_count": 72,
   "id": "d286c218",
   "metadata": {},
   "outputs": [],
   "source": [
    "from tqdm import tqdm"
   ]
  },
  {
   "cell_type": "code",
   "execution_count": 74,
   "id": "bb59b269",
   "metadata": {},
   "outputs": [
    {
     "data": {
      "text/plain": [
       "Index(['read_id', 'ONT_Barcode', 'HW_Address', 'orientation', 'start_end',\n",
       "       'library_motif', 'squiggle', 'motif_seq', 'strand',\n",
       "       'payload_motifs_found', 'edit_spacer_seq', 'edit_motifs_found',\n",
       "       'payload', 'edit_payload_seq'],\n",
       "      dtype='object')"
      ]
     },
     "execution_count": 74,
     "metadata": {},
     "output_type": "execute_result"
    }
   ],
   "source": [
    "filtered_df.columns"
   ]
  },
  {
   "cell_type": "code",
   "execution_count": 141,
   "id": "27dc3992",
   "metadata": {},
   "outputs": [
    {
     "data": {
      "text/plain": [
       "Index(['read_id', 'ONT_Barcode', 'HW_Address', 'orientation', 'start_end',\n",
       "       'library_motif', 'squiggle', 'motif_seq', 'strand',\n",
       "       'payload_motifs_found', 'edit_spacer_seq', 'edit_motifs_found',\n",
       "       'payload_x', 'payload_y'],\n",
       "      dtype='object')"
      ]
     },
     "execution_count": 141,
     "metadata": {},
     "output_type": "execute_result"
    }
   ],
   "source": [
    "merged_df.columns"
   ]
  },
  {
   "cell_type": "code",
   "execution_count": 145,
   "id": "8ace87d1",
   "metadata": {},
   "outputs": [
    {
     "name": "stderr",
     "output_type": "stream",
     "text": [
      "100%|██████████| 110274/110274 [00:06<00:00, 17521.52it/s]\n"
     ]
    }
   ],
   "source": [
    "counter = 0\n",
    "mf = 0\n",
    "me = 0\n",
    "corrected_edit_payload_seq = []\n",
    "unique_predictions = set()\n",
    "\n",
    "edit_seqs = []\n",
    "spacer_seqs = []\n",
    "read_ids = []\n",
    "payloads = []\n",
    "squiggles = []\n",
    "orientation = []\n",
    "\n",
    "for ind, row in tqdm(filtered_df.iterrows(), total=len(filtered_df)):\n",
    "    i = row['edit_payload_seq']\n",
    "    j = row['payload']\n",
    "    k = row['edit_spacer_seq']\n",
    "    read_id = row['read_id']\n",
    "\n",
    "\n",
    "\n",
    "    if str(i) not in unique_predictions:\n",
    "        metrics = evaluate_prediction(i[2:], j)\n",
    "        if metrics[1] > 0:\n",
    "            continue\n",
    "        mf += metrics[0]\n",
    "        me += metrics[1]\n",
    "        read_ids.append(read_id)\n",
    "        edit_seqs.append(i)\n",
    "        spacer_seqs.append(k)\n",
    "        unique_predictions.add(str(i))\n",
    "    #final = i[:2] + corrected\n",
    "    #print(i)\n",
    "    #print(final)\n",
    "    #print()\n",
    "    #corrected_edit_payload_seq.append(final)"
   ]
  },
  {
   "cell_type": "code",
   "execution_count": 149,
   "id": "a65d28ee",
   "metadata": {},
   "outputs": [],
   "source": [
    "filtered_df = filtered_df.loc[filtered_df['read_id'].isin(read_ids)]"
   ]
  },
  {
   "cell_type": "code",
   "execution_count": 150,
   "id": "e151b7e8",
   "metadata": {},
   "outputs": [
    {
     "data": {
      "text/plain": [
       "90534"
      ]
     },
     "execution_count": 150,
     "metadata": {},
     "output_type": "execute_result"
    }
   ],
   "source": [
    "len(filtered_df)"
   ]
  },
  {
   "cell_type": "code",
   "execution_count": 103,
   "id": "042ef629",
   "metadata": {},
   "outputs": [],
   "source": [
    "forward_df = filtered_df_.loc[filtered_df_['read_id'].isin(read_ids)]"
   ]
  },
  {
   "cell_type": "code",
   "execution_count": 105,
   "id": "5cae2397",
   "metadata": {},
   "outputs": [],
   "source": [
    "forward_df = forward_df.loc[forward_df['orientation'].str.startswith('+')]"
   ]
  },
  {
   "cell_type": "code",
   "execution_count": 153,
   "id": "10e3e0fb",
   "metadata": {},
   "outputs": [],
   "source": [
    "filtered_df.to_pickle(r'C:\\Users\\Parv\\Doc\\HelixWorks\\Basecalling\\code\\motifcaller\\data\\empirical\\edit_distance_motif_search\\edit_train_filtered_reverse.pkl')"
   ]
  },
  {
   "cell_type": "code",
   "execution_count": 81,
   "id": "e9ac2621",
   "metadata": {},
   "outputs": [
    {
     "data": {
      "text/plain": [
       "2936700"
      ]
     },
     "execution_count": 81,
     "metadata": {},
     "output_type": "execute_result"
    }
   ],
   "source": [
    "len(merged_unique_df)"
   ]
  },
  {
   "cell_type": "code",
   "execution_count": 68,
   "id": "39a0cc77",
   "metadata": {},
   "outputs": [],
   "source": [
    "t = [str(i) for i in filtered_df['edit_payload_seq'].to_list()[:2942440]]"
   ]
  },
  {
   "cell_type": "code",
   "execution_count": 157,
   "id": "8625502a",
   "metadata": {},
   "outputs": [],
   "source": [
    "filtered_reverse = filtered_df.loc[filtered_df['orientation'].str.startswith('-')]"
   ]
  },
  {
   "cell_type": "code",
   "execution_count": 160,
   "id": "c693f3bb",
   "metadata": {},
   "outputs": [
    {
     "name": "stderr",
     "output_type": "stream",
     "text": [
      "C:\\Users\\Parv\\AppData\\Local\\Temp\\ipykernel_4900\\2773630298.py:1: SettingWithCopyWarning: \n",
      "A value is trying to be set on a copy of a slice from a DataFrame.\n",
      "Try using .loc[row_indexer,col_indexer] = value instead\n",
      "\n",
      "See the caveats in the documentation: https://pandas.pydata.org/pandas-docs/stable/user_guide/indexing.html#returning-a-view-versus-a-copy\n",
      "  filtered_reverse['edit_spacer_seq'] = filtered_reverse['edit_spacer_seq'].apply(lambda x: x[::-1])\n"
     ]
    }
   ],
   "source": [
    "filtered_reverse['edit_spacer_seq'] = filtered_reverse['edit_spacer_seq'].apply(lambda x: x[::-1])"
   ]
  },
  {
   "cell_type": "code",
   "execution_count": null,
   "id": "9201cab8",
   "metadata": {},
   "outputs": [],
   "source": [
    "filtered_forward['edit_spacer_seq'] = filtered_df['edit_payload_seq_no_error'].apply()"
   ]
  },
  {
   "cell_type": "code",
   "execution_count": 166,
   "id": "b88ef17e",
   "metadata": {},
   "outputs": [],
   "source": [
    "filtered_reverse.to_pickle(r\"C:\\Users\\Parv\\Doc\\HelixWorks\\Basecalling\\code\\motifcaller\\data\\empirical\\edit_distance_motif_search\\edit_train_filtered_reverse.pkl\")"
   ]
  },
  {
   "cell_type": "code",
   "execution_count": 167,
   "id": "7089d58c",
   "metadata": {},
   "outputs": [],
   "source": [
    "filtered_forward = pd.read_pickle(r\"C:\\Users\\Parv\\Doc\\HelixWorks\\Basecalling\\code\\motifcaller\\data\\empirical\\edit_distance_motif_search\\edit_train_filtered_forward.pkl\")"
   ]
  },
  {
   "cell_type": "markdown",
   "id": "0d72d472",
   "metadata": {},
   "source": [
    "### Adding edit labels to test dataset"
   ]
  },
  {
   "cell_type": "code",
   "execution_count": 3,
   "id": "bb687709",
   "metadata": {},
   "outputs": [],
   "source": [
    "edit_df = pd.read_pickle(r\"C:\\Users\\Parv\\Doc\\HelixWorks\\Basecalling\\code\\motifcaller\\data\\empirical\\edit_distance_motif_search\\edit_distance_motif_search.pkl\")"
   ]
  },
  {
   "cell_type": "code",
   "execution_count": 4,
   "id": "76d34fa5",
   "metadata": {},
   "outputs": [
    {
     "data": {
      "text/html": [
       "<div>\n",
       "<style scoped>\n",
       "    .dataframe tbody tr th:only-of-type {\n",
       "        vertical-align: middle;\n",
       "    }\n",
       "\n",
       "    .dataframe tbody tr th {\n",
       "        vertical-align: top;\n",
       "    }\n",
       "\n",
       "    .dataframe thead th {\n",
       "        text-align: right;\n",
       "    }\n",
       "</style>\n",
       "<table border=\"1\" class=\"dataframe\">\n",
       "  <thead>\n",
       "    <tr style=\"text-align: right;\">\n",
       "      <th></th>\n",
       "      <th>read_id</th>\n",
       "      <th>orientation</th>\n",
       "      <th>motif_seq</th>\n",
       "    </tr>\n",
       "  </thead>\n",
       "  <tbody>\n",
       "    <tr>\n",
       "      <th>0</th>\n",
       "      <td>7f177924-d279-4de6-bb86-01eaec9ee0e5</td>\n",
       "      <td>-</td>\n",
       "      <td>[[3], [5], [2], [3], [], [], [], [], [], []]</td>\n",
       "    </tr>\n",
       "    <tr>\n",
       "      <th>1</th>\n",
       "      <td>d47257cc-0209-450d-8b15-8c99a82dd1c4</td>\n",
       "      <td>-</td>\n",
       "      <td>[[1], [8], [2], [5], [1], [5], [], [], [], []]</td>\n",
       "    </tr>\n",
       "    <tr>\n",
       "      <th>2</th>\n",
       "      <td>6bf40594-e818-401a-a7f4-142b51615a14</td>\n",
       "      <td>-</td>\n",
       "      <td>[[4], [2], [2], [1], [], [], [], [], [], []]</td>\n",
       "    </tr>\n",
       "    <tr>\n",
       "      <th>3</th>\n",
       "      <td>07126fb4-14ef-4d7c-8be0-491c44e4ea8a</td>\n",
       "      <td>+</td>\n",
       "      <td>[[1], [6], [6], [4], [], [], [], [], [], [8]]</td>\n",
       "    </tr>\n",
       "    <tr>\n",
       "      <th>4</th>\n",
       "      <td>ccbd4335-1c81-4c06-a030-de9b231b0eed</td>\n",
       "      <td>-</td>\n",
       "      <td>[[8], [2], [8], [2], [7], [8], [3], [2], [], []]</td>\n",
       "    </tr>\n",
       "    <tr>\n",
       "      <th>...</th>\n",
       "      <td>...</td>\n",
       "      <td>...</td>\n",
       "      <td>...</td>\n",
       "    </tr>\n",
       "    <tr>\n",
       "      <th>590132</th>\n",
       "      <td>a3d4d1f1-5317-489a-b58e-548bf008b914</td>\n",
       "      <td>+</td>\n",
       "      <td>[[], [], [4], [2], [5], [8], [7], [7], [6], [8]]</td>\n",
       "    </tr>\n",
       "    <tr>\n",
       "      <th>590133</th>\n",
       "      <td>3c753ca5-9b01-4e70-9d67-527c53846aa0</td>\n",
       "      <td>-</td>\n",
       "      <td>[[], [], [], [], [5], [], [], [], [], []]</td>\n",
       "    </tr>\n",
       "    <tr>\n",
       "      <th>590134</th>\n",
       "      <td>7032acb2-5612-412e-8f2b-18d4be8eab13</td>\n",
       "      <td>-</td>\n",
       "      <td>[[8], [5], [3], [5], [4], [8], [5], [5], [7], []]</td>\n",
       "    </tr>\n",
       "    <tr>\n",
       "      <th>590135</th>\n",
       "      <td>84c36d62-3594-492e-9fae-b17a12944b54</td>\n",
       "      <td>+</td>\n",
       "      <td>[[2], [5], [3], [3], [1], [7], [1], [5], [8], ...</td>\n",
       "    </tr>\n",
       "    <tr>\n",
       "      <th>590136</th>\n",
       "      <td>56ba2729-433a-4e2c-9f24-29c6d03383bf</td>\n",
       "      <td>+</td>\n",
       "      <td>[[3], [1], [4], [4], [4], [4], [8], [2], [2], ...</td>\n",
       "    </tr>\n",
       "  </tbody>\n",
       "</table>\n",
       "<p>590137 rows × 3 columns</p>\n",
       "</div>"
      ],
      "text/plain": [
       "                                     read_id orientation  \\\n",
       "0       7f177924-d279-4de6-bb86-01eaec9ee0e5           -   \n",
       "1       d47257cc-0209-450d-8b15-8c99a82dd1c4           -   \n",
       "2       6bf40594-e818-401a-a7f4-142b51615a14           -   \n",
       "3       07126fb4-14ef-4d7c-8be0-491c44e4ea8a           +   \n",
       "4       ccbd4335-1c81-4c06-a030-de9b231b0eed           -   \n",
       "...                                      ...         ...   \n",
       "590132  a3d4d1f1-5317-489a-b58e-548bf008b914           +   \n",
       "590133  3c753ca5-9b01-4e70-9d67-527c53846aa0           -   \n",
       "590134  7032acb2-5612-412e-8f2b-18d4be8eab13           -   \n",
       "590135  84c36d62-3594-492e-9fae-b17a12944b54           +   \n",
       "590136  56ba2729-433a-4e2c-9f24-29c6d03383bf           +   \n",
       "\n",
       "                                                motif_seq  \n",
       "0            [[3], [5], [2], [3], [], [], [], [], [], []]  \n",
       "1          [[1], [8], [2], [5], [1], [5], [], [], [], []]  \n",
       "2            [[4], [2], [2], [1], [], [], [], [], [], []]  \n",
       "3           [[1], [6], [6], [4], [], [], [], [], [], [8]]  \n",
       "4        [[8], [2], [8], [2], [7], [8], [3], [2], [], []]  \n",
       "...                                                   ...  \n",
       "590132   [[], [], [4], [2], [5], [8], [7], [7], [6], [8]]  \n",
       "590133          [[], [], [], [], [5], [], [], [], [], []]  \n",
       "590134  [[8], [5], [3], [5], [4], [8], [5], [5], [7], []]  \n",
       "590135  [[2], [5], [3], [3], [1], [7], [1], [5], [8], ...  \n",
       "590136  [[3], [1], [4], [4], [4], [4], [8], [2], [2], ...  \n",
       "\n",
       "[590137 rows x 3 columns]"
      ]
     },
     "execution_count": 4,
     "metadata": {},
     "output_type": "execute_result"
    }
   ],
   "source": [
    "edit_df"
   ]
  },
  {
   "cell_type": "markdown",
   "id": "6a60bd6c",
   "metadata": {},
   "source": [
    "## Extracting a fastq with all the subset reads"
   ]
  },
  {
   "cell_type": "code",
   "execution_count": 1,
   "id": "5b5370df",
   "metadata": {},
   "outputs": [],
   "source": [
    "import pandas as pd\n",
    "from tqdm import tqdm\n",
    "import os"
   ]
  },
  {
   "cell_type": "code",
   "execution_count": 2,
   "id": "f94a677e",
   "metadata": {},
   "outputs": [],
   "source": [
    "encoded_df = pd.read_pickle(r\"C:\\Users\\Parv\\Doc\\HelixWorks\\Basecalling\\code\\motifcaller\\data\\empirical\\full_datasets\\diluted_EIC04.pkl\")"
   ]
  },
  {
   "cell_type": "code",
   "execution_count": 3,
   "id": "6f19d72f",
   "metadata": {},
   "outputs": [],
   "source": [
    "master_read_ids = set(encoded_df['read_id'].tolist())"
   ]
  },
  {
   "cell_type": "code",
   "execution_count": 3,
   "id": "e4bdd1e8",
   "metadata": {},
   "outputs": [],
   "source": [
    "filtered_barcodes = ['barcode_external02_internal02', 'barcode_external08_internal01',\n",
    "       'barcode_external05_internal01', 'barcode_external02_internal03',\n",
    "       'barcode_external02_internal05']"
   ]
  },
  {
   "cell_type": "code",
   "execution_count": 4,
   "id": "775e45bc",
   "metadata": {},
   "outputs": [],
   "source": [
    "filtered_df = encoded_csv.loc[encoded_csv['HW_Address'].isin(filtered_barcodes)].sample(10000)"
   ]
  },
  {
   "cell_type": "code",
   "execution_count": 10,
   "id": "b4d23c65",
   "metadata": {},
   "outputs": [],
   "source": [
    "basepath = r\"C:\\Users\\Parv\\Doc\\HelixWorks\\Basecalling\\code\\motifcaller\\data\\empirical\\fastq\\EIC01-01-1280\\FASTQ(pass_fail_logs)\\fail\""
   ]
  },
  {
   "cell_type": "code",
   "execution_count": 6,
   "id": "75940392",
   "metadata": {},
   "outputs": [],
   "source": [
    "master_read_ids = filtered_df['read_id'].tolist()"
   ]
  },
  {
   "cell_type": "code",
   "execution_count": 6,
   "id": "53cfa278",
   "metadata": {},
   "outputs": [],
   "source": [
    "from Bio import SeqIO, SeqRecord\n",
    "\n",
    "def parse_biopython(input_fastq):\n",
    "    for record in SeqIO.parse(input_fastq, 'fastq'):\n",
    "        yield record\n",
    "\n",
    "def get_fastq_records(fastq_filepath, master_read_ids):\n",
    "    records = []\n",
    "    for i, record in enumerate(parse_biopython(fastq_filepath)):\n",
    "        if record.id in master_read_ids:\n",
    "            records.append(record)\n",
    "    return records"
   ]
  },
  {
   "cell_type": "code",
   "execution_count": 7,
   "id": "27a4101d",
   "metadata": {},
   "outputs": [],
   "source": [
    "master_records = []"
   ]
  },
  {
   "cell_type": "code",
   "execution_count": 95,
   "id": "96a37349",
   "metadata": {},
   "outputs": [],
   "source": [
    "master_read_ids = set(master_read_ids)"
   ]
  },
  {
   "cell_type": "code",
   "execution_count": 11,
   "id": "ff85507e",
   "metadata": {},
   "outputs": [
    {
     "name": "stderr",
     "output_type": "stream",
     "text": [
      "100%|██████████| 716/716 [00:48<00:00, 14.91it/s]\n"
     ]
    }
   ],
   "source": [
    "for file in tqdm(os.listdir(basepath)):\n",
    "    if file.endswith('.fastq'):\n",
    "        records = get_fastq_records(os.path.join(basepath, file), master_read_ids)\n",
    "        master_records.extend(records)"
   ]
  },
  {
   "cell_type": "code",
   "execution_count": 24,
   "id": "219d306e",
   "metadata": {},
   "outputs": [],
   "source": [
    "record_read_ids = [str(i.id) for i in master_records]"
   ]
  },
  {
   "cell_type": "code",
   "execution_count": 30,
   "id": "679eb6f1",
   "metadata": {},
   "outputs": [
    {
     "data": {
      "text/plain": [
       "1144"
      ]
     },
     "execution_count": 30,
     "metadata": {},
     "output_type": "execute_result"
    }
   ],
   "source": [
    "len(merged['read_id'])"
   ]
  },
  {
   "cell_type": "code",
   "execution_count": 26,
   "id": "7a80c631",
   "metadata": {},
   "outputs": [
    {
     "data": {
      "text/plain": [
       "796"
      ]
     },
     "execution_count": 26,
     "metadata": {},
     "output_type": "execute_result"
    }
   ],
   "source": [
    "len(set(record_read_ids).intersection(set(merged['read_id'])))"
   ]
  },
  {
   "cell_type": "code",
   "execution_count": 101,
   "id": "438996e6",
   "metadata": {},
   "outputs": [],
   "source": [
    "t = [i for i in master_records if i.id in master_read_ids]"
   ]
  },
  {
   "cell_type": "code",
   "execution_count": 33,
   "id": "de3eb0b6",
   "metadata": {},
   "outputs": [],
   "source": [
    "def create_fasta_file(ids, strands, output_filepath):\n",
    "    with open(output_filepath, 'w') as f:\n",
    "        for i, strand in enumerate(strands):\n",
    "            f.write(f\">{ids[i]}\\n\")\n",
    "            f.write(strand + '\\n\\n')"
   ]
  },
  {
   "cell_type": "code",
   "execution_count": 35,
   "id": "93545858",
   "metadata": {},
   "outputs": [],
   "source": [
    "strands = [str(i.seq) for i in master_records]\n",
    "ids = [str(i.id) for i in master_records]"
   ]
  },
  {
   "cell_type": "code",
   "execution_count": 41,
   "id": "552a5bb9",
   "metadata": {},
   "outputs": [],
   "source": [
    "output_filepath = r\"C:\\Users\\Parv\\Doc\\HelixWorks\\Basecalling\\code\\motifcaller\\data\\empirical\\fastq\\EIC01-01-1280\""
   ]
  },
  {
   "cell_type": "code",
   "execution_count": 43,
   "id": "7fb6eb66",
   "metadata": {},
   "outputs": [],
   "source": [
    "with open(os.path.join(output_filepath, f\"fq.fastq\"), \"w\") as output_handle:\n",
    "        SeqIO.write(master_records, output_handle, \"fastq\")"
   ]
  },
  {
   "cell_type": "code",
   "execution_count": null,
   "id": "277e5ba9",
   "metadata": {},
   "outputs": [
    {
     "ename": "FileNotFoundError",
     "evalue": "[Errno 2] No such file or directory: 'C:\\\\Users\\\\Parv\\\\Doc\\\\HelixWorks\\\\Basecalling\\\\code\\\\motifcaller\\\\data\\\\empirical\\\\edit_distance_motif_search\\\\res-loose-chain.txt\\\\fq0.fastq'",
     "output_type": "error",
     "traceback": [
      "\u001b[1;31m---------------------------------------------------------------------------\u001b[0m",
      "\u001b[1;31mFileNotFoundError\u001b[0m                         Traceback (most recent call last)",
      "Cell \u001b[1;32mIn[39], line 4\u001b[0m\n\u001b[0;32m      1\u001b[0m \u001b[38;5;66;03m# Splitting by 10000 reads - since MCED can handle it and outputting files\u001b[39;00m\n\u001b[0;32m      3\u001b[0m \u001b[38;5;28;01mfor\u001b[39;00m ind, i \u001b[38;5;129;01min\u001b[39;00m \u001b[38;5;28menumerate\u001b[39m(\u001b[38;5;28mrange\u001b[39m(\u001b[38;5;241m0\u001b[39m, \u001b[38;5;28mlen\u001b[39m(master_records), \u001b[38;5;241m10000\u001b[39m)):\n\u001b[1;32m----> 4\u001b[0m     \u001b[38;5;28;01mwith\u001b[39;00m \u001b[38;5;28;43mopen\u001b[39;49m\u001b[43m(\u001b[49m\u001b[43mos\u001b[49m\u001b[38;5;241;43m.\u001b[39;49m\u001b[43mpath\u001b[49m\u001b[38;5;241;43m.\u001b[39;49m\u001b[43mjoin\u001b[49m\u001b[43m(\u001b[49m\u001b[43mbasepath\u001b[49m\u001b[43m,\u001b[49m\u001b[43m \u001b[49m\u001b[38;5;124;43mf\u001b[39;49m\u001b[38;5;124;43m\"\u001b[39;49m\u001b[38;5;124;43mfq\u001b[39;49m\u001b[38;5;132;43;01m{\u001b[39;49;00m\u001b[43mind\u001b[49m\u001b[38;5;132;43;01m}\u001b[39;49;00m\u001b[38;5;124;43m.fastq\u001b[39;49m\u001b[38;5;124;43m\"\u001b[39;49m\u001b[43m)\u001b[49m\u001b[43m,\u001b[49m\u001b[43m \u001b[49m\u001b[38;5;124;43m\"\u001b[39;49m\u001b[38;5;124;43mw\u001b[39;49m\u001b[38;5;124;43m\"\u001b[39;49m\u001b[43m)\u001b[49m \u001b[38;5;28;01mas\u001b[39;00m output_handle:\n\u001b[0;32m      5\u001b[0m         SeqIO\u001b[38;5;241m.\u001b[39mwrite(master_records[i: i \u001b[38;5;241m+\u001b[39m \u001b[38;5;241m10000\u001b[39m], output_handle, \u001b[38;5;124m\"\u001b[39m\u001b[38;5;124mfastq\u001b[39m\u001b[38;5;124m\"\u001b[39m)\n\u001b[0;32m      7\u001b[0m \u001b[38;5;66;03m# This worked! Let's see how long it takes - failed halfway through huh\u001b[39;00m\n",
      "File \u001b[1;32mc:\\Users\\Parv\\anaconda3\\envs\\pytorch_gpu\\Lib\\site-packages\\IPython\\core\\interactiveshell.py:324\u001b[0m, in \u001b[0;36m_modified_open\u001b[1;34m(file, *args, **kwargs)\u001b[0m\n\u001b[0;32m    317\u001b[0m \u001b[38;5;28;01mif\u001b[39;00m file \u001b[38;5;129;01min\u001b[39;00m {\u001b[38;5;241m0\u001b[39m, \u001b[38;5;241m1\u001b[39m, \u001b[38;5;241m2\u001b[39m}:\n\u001b[0;32m    318\u001b[0m     \u001b[38;5;28;01mraise\u001b[39;00m \u001b[38;5;167;01mValueError\u001b[39;00m(\n\u001b[0;32m    319\u001b[0m         \u001b[38;5;124mf\u001b[39m\u001b[38;5;124m\"\u001b[39m\u001b[38;5;124mIPython won\u001b[39m\u001b[38;5;124m'\u001b[39m\u001b[38;5;124mt let you open fd=\u001b[39m\u001b[38;5;132;01m{\u001b[39;00mfile\u001b[38;5;132;01m}\u001b[39;00m\u001b[38;5;124m by default \u001b[39m\u001b[38;5;124m\"\u001b[39m\n\u001b[0;32m    320\u001b[0m         \u001b[38;5;124m\"\u001b[39m\u001b[38;5;124mas it is likely to crash IPython. If you know what you are doing, \u001b[39m\u001b[38;5;124m\"\u001b[39m\n\u001b[0;32m    321\u001b[0m         \u001b[38;5;124m\"\u001b[39m\u001b[38;5;124myou can use builtins\u001b[39m\u001b[38;5;124m'\u001b[39m\u001b[38;5;124m open.\u001b[39m\u001b[38;5;124m\"\u001b[39m\n\u001b[0;32m    322\u001b[0m     )\n\u001b[1;32m--> 324\u001b[0m \u001b[38;5;28;01mreturn\u001b[39;00m \u001b[43mio_open\u001b[49m\u001b[43m(\u001b[49m\u001b[43mfile\u001b[49m\u001b[43m,\u001b[49m\u001b[43m \u001b[49m\u001b[38;5;241;43m*\u001b[39;49m\u001b[43margs\u001b[49m\u001b[43m,\u001b[49m\u001b[43m \u001b[49m\u001b[38;5;241;43m*\u001b[39;49m\u001b[38;5;241;43m*\u001b[39;49m\u001b[43mkwargs\u001b[49m\u001b[43m)\u001b[49m\n",
      "\u001b[1;31mFileNotFoundError\u001b[0m: [Errno 2] No such file or directory: 'C:\\\\Users\\\\Parv\\\\Doc\\\\HelixWorks\\\\Basecalling\\\\code\\\\motifcaller\\\\data\\\\empirical\\\\edit_distance_motif_search\\\\res-loose-chain.txt\\\\fq0.fastq'"
     ]
    }
   ],
   "source": [
    "\n",
    "# Splitting by 10000 reads - since MCED can handle it and outputting files\n",
    "\n",
    "for ind, i in enumerate(range(0, len(master_records), 10000)):\n",
    "    with open(os.path.join(basepath, f\"fq{ind}.fastq\"), \"w\") as output_handle:\n",
    "        SeqIO.write(master_records[i: i + 10000], output_handle, \"fastq\")\n",
    "\n",
    "# This worked! Let's see how long it takes - failed halfway through huh"
   ]
  },
  {
   "cell_type": "code",
   "execution_count": 45,
   "id": "8ed1cb20",
   "metadata": {},
   "outputs": [],
   "source": [
    "from data_functions import sort_library_motif_transcript\n",
    "\n",
    "t = dil['library_motif'].apply(lambda x: sort_library_motif_transcript(x))"
   ]
  },
  {
   "cell_type": "code",
   "execution_count": 33,
   "id": "b56dfb31",
   "metadata": {},
   "outputs": [
    {
     "data": {
      "text/html": [
       "<div>\n",
       "<style scoped>\n",
       "    .dataframe tbody tr th:only-of-type {\n",
       "        vertical-align: middle;\n",
       "    }\n",
       "\n",
       "    .dataframe tbody tr th {\n",
       "        vertical-align: top;\n",
       "    }\n",
       "\n",
       "    .dataframe thead th {\n",
       "        text-align: right;\n",
       "    }\n",
       "</style>\n",
       "<table border=\"1\" class=\"dataframe\">\n",
       "  <thead>\n",
       "    <tr style=\"text-align: right;\">\n",
       "      <th></th>\n",
       "      <th>read_id</th>\n",
       "      <th>orientation</th>\n",
       "      <th>motif_seq</th>\n",
       "    </tr>\n",
       "  </thead>\n",
       "  <tbody>\n",
       "    <tr>\n",
       "      <th>0</th>\n",
       "      <td>28deb831-ed63-4cd9-b164-d5d28ababc2f</td>\n",
       "      <td>+</td>\n",
       "      <td>[[1], [8], [4], [3], [7], [4], [], [], [], [7]]</td>\n",
       "    </tr>\n",
       "    <tr>\n",
       "      <th>1</th>\n",
       "      <td>c6b3b576-0c4d-4529-b9e7-d387022827c2</td>\n",
       "      <td>+</td>\n",
       "      <td>[[], [1], [1], [6], [6], [], [], [3], [8], [3]]</td>\n",
       "    </tr>\n",
       "    <tr>\n",
       "      <th>2</th>\n",
       "      <td>4d404cdf-340b-40ce-97e7-d310abdced0d</td>\n",
       "      <td>+</td>\n",
       "      <td>[[1], [1], [5], [6], [2], [6], [], [], [], []]</td>\n",
       "    </tr>\n",
       "    <tr>\n",
       "      <th>3</th>\n",
       "      <td>5b8d5af7-80f6-4039-a429-4de4e2265586</td>\n",
       "      <td>-</td>\n",
       "      <td>[[5], [3], [8], [4], [7], [6], [], [], [], []]</td>\n",
       "    </tr>\n",
       "    <tr>\n",
       "      <th>4</th>\n",
       "      <td>ea553e11-6d3c-4a2b-8979-a851798cc715</td>\n",
       "      <td>-</td>\n",
       "      <td>[[1], [1], [4], [5], [3], [2], [4], [], [], []]</td>\n",
       "    </tr>\n",
       "    <tr>\n",
       "      <th>...</th>\n",
       "      <td>...</td>\n",
       "      <td>...</td>\n",
       "      <td>...</td>\n",
       "    </tr>\n",
       "    <tr>\n",
       "      <th>8929</th>\n",
       "      <td>3882ef73-364b-4a99-9a50-66be06db3f19</td>\n",
       "      <td>-</td>\n",
       "      <td>[[], [], [], [6], [], [], [], [], [], []]</td>\n",
       "    </tr>\n",
       "    <tr>\n",
       "      <th>8930</th>\n",
       "      <td>48ebe444-8815-4e99-96ba-90b6dbd75acd</td>\n",
       "      <td>+</td>\n",
       "      <td>[[5], [3], [6], [2], [6], [3], [2], [7], [8], ...</td>\n",
       "    </tr>\n",
       "    <tr>\n",
       "      <th>8931</th>\n",
       "      <td>790c69b6-b3ff-48b9-9e87-cce474704224</td>\n",
       "      <td>+</td>\n",
       "      <td>[[1], [8], [2], [2], [1], [4], [8], [5], [6], ...</td>\n",
       "    </tr>\n",
       "    <tr>\n",
       "      <th>8932</th>\n",
       "      <td>b589c362-66b8-4bf2-95f7-dd0bf2b35bc9</td>\n",
       "      <td>+</td>\n",
       "      <td>[[5], [3], [8], [5], [7], [6], [3], [], [8], [3]]</td>\n",
       "    </tr>\n",
       "    <tr>\n",
       "      <th>8933</th>\n",
       "      <td>dd7c9036-7c1a-4564-a8e3-2c7e63bb7323</td>\n",
       "      <td>-</td>\n",
       "      <td>[[], [], [], [6], [], [], [], [], [], []]</td>\n",
       "    </tr>\n",
       "  </tbody>\n",
       "</table>\n",
       "<p>8934 rows × 3 columns</p>\n",
       "</div>"
      ],
      "text/plain": [
       "                                   read_id orientation  \\\n",
       "0     28deb831-ed63-4cd9-b164-d5d28ababc2f           +   \n",
       "1     c6b3b576-0c4d-4529-b9e7-d387022827c2           +   \n",
       "2     4d404cdf-340b-40ce-97e7-d310abdced0d           +   \n",
       "3     5b8d5af7-80f6-4039-a429-4de4e2265586           -   \n",
       "4     ea553e11-6d3c-4a2b-8979-a851798cc715           -   \n",
       "...                                    ...         ...   \n",
       "8929  3882ef73-364b-4a99-9a50-66be06db3f19           -   \n",
       "8930  48ebe444-8815-4e99-96ba-90b6dbd75acd           +   \n",
       "8931  790c69b6-b3ff-48b9-9e87-cce474704224           +   \n",
       "8932  b589c362-66b8-4bf2-95f7-dd0bf2b35bc9           +   \n",
       "8933  dd7c9036-7c1a-4564-a8e3-2c7e63bb7323           -   \n",
       "\n",
       "                                              motif_seq  \n",
       "0       [[1], [8], [4], [3], [7], [4], [], [], [], [7]]  \n",
       "1       [[], [1], [1], [6], [6], [], [], [3], [8], [3]]  \n",
       "2        [[1], [1], [5], [6], [2], [6], [], [], [], []]  \n",
       "3        [[5], [3], [8], [4], [7], [6], [], [], [], []]  \n",
       "4       [[1], [1], [4], [5], [3], [2], [4], [], [], []]  \n",
       "...                                                 ...  \n",
       "8929          [[], [], [], [6], [], [], [], [], [], []]  \n",
       "8930  [[5], [3], [6], [2], [6], [3], [2], [7], [8], ...  \n",
       "8931  [[1], [8], [2], [2], [1], [4], [8], [5], [6], ...  \n",
       "8932  [[5], [3], [8], [5], [7], [6], [3], [], [8], [3]]  \n",
       "8933          [[], [], [], [6], [], [], [], [], [], []]  \n",
       "\n",
       "[8934 rows x 3 columns]"
      ]
     },
     "execution_count": 33,
     "metadata": {},
     "output_type": "execute_result"
    }
   ],
   "source": [
    "df"
   ]
  },
  {
   "cell_type": "code",
   "execution_count": null,
   "id": "922db27d",
   "metadata": {},
   "outputs": [],
   "source": [
    "merged_df = pd.mebrge(encoded_df, df, on='read_id')"
   ]
  },
  {
   "cell_type": "code",
   "execution_count": 2,
   "id": "98a94fcd",
   "metadata": {},
   "outputs": [],
   "source": [
    "import pandas as pd"
   ]
  },
  {
   "cell_type": "code",
   "execution_count": 32,
   "id": "1b9c8a98",
   "metadata": {},
   "outputs": [],
   "source": [
    "merged_df = pd.read_pickle(r\"C:\\Users\\Parv\\Doc\\HelixWorks\\Basecalling\\code\\motifcaller\\data\\empirical\\full_datasets\\master_test.pkl\")"
   ]
  },
  {
   "cell_type": "code",
   "execution_count": 33,
   "id": "e793dc26",
   "metadata": {},
   "outputs": [],
   "source": [
    "from utils import evaluate_prediction"
   ]
  },
  {
   "cell_type": "code",
   "execution_count": 34,
   "id": "62b27ab3",
   "metadata": {},
   "outputs": [],
   "source": [
    "merged_df['motif_seq'] = merged_df['edit_search_seq']"
   ]
  },
  {
   "cell_type": "code",
   "execution_count": 35,
   "id": "f7cca17c",
   "metadata": {},
   "outputs": [],
   "source": [
    "merged_df['orientation_x'] = merged_df['orientation_x'].apply(lambda x: 1 if x.startswith('+') else 0)"
   ]
  },
  {
   "cell_type": "code",
   "execution_count": 36,
   "id": "10bf26bd",
   "metadata": {},
   "outputs": [],
   "source": [
    "\n",
    "found_arr = []\n",
    "err_arr = []\n",
    "orientation_arr = []\n",
    "total = 0\n",
    "for ind, row in merged_df.iterrows():\n",
    "    edit_seq = row['motif_seq']\n",
    "    payload = row['payload_seq']\n",
    "    orientation = row['orientation_x']\n",
    "\n",
    "    found_, err_ = evaluate_prediction(edit_seq[2:], payload)\n",
    "    found_arr.append(found_)\n",
    "    err_arr.append(err_)\n",
    "    orientation_arr.append(orientation)\n",
    "    total += 1\n",
    "    "
   ]
  },
  {
   "cell_type": "code",
   "execution_count": 37,
   "id": "2455bf56",
   "metadata": {},
   "outputs": [],
   "source": [
    "t = pd.DataFrame({\n",
    "    \"mf_edit\": found_arr,\n",
    "    \"me_edit\": err_arr,\n",
    "    \"orientation\": orientation_arr\n",
    "})"
   ]
  },
  {
   "cell_type": "code",
   "execution_count": 71,
   "id": "7cd479e4",
   "metadata": {},
   "outputs": [],
   "source": [
    "filtered_df = t.loc[t['mf_edit'] > 1]"
   ]
  },
  {
   "cell_type": "code",
   "execution_count": 38,
   "id": "961efdfe",
   "metadata": {},
   "outputs": [],
   "source": [
    "filtered_df = t"
   ]
  },
  {
   "cell_type": "code",
   "execution_count": 39,
   "id": "1d770aab",
   "metadata": {},
   "outputs": [
    {
     "name": "stdout",
     "output_type": "stream",
     "text": [
      "Mean metrics combined:\n",
      "       mf_edit   me_edit  orientation\n",
      "Mean  5.928397  0.277289     0.698759\n",
      "\n",
      "Mean metrics forward\n",
      "       mf_edit   me_edit  orientation\n",
      "Mean  6.436642  0.265934          1.0\n",
      "\n",
      "Mean metrics reverse\n",
      "       mf_edit   me_edit  orientation\n",
      "Mean  4.749469  0.303629          0.0\n",
      "\n",
      "100.0% of pool\n"
     ]
    }
   ],
   "source": [
    "\n",
    "mean_values = filtered_df.mean(numeric_only=True)\n",
    "\n",
    "print(\"Mean metrics combined:\")\n",
    "print(mean_values.to_frame(name='Mean').T)\n",
    "print()\n",
    "\n",
    "mean_values = filtered_df.loc[filtered_df['orientation'] == 1].mean(numeric_only=True)\n",
    "print(\"Mean metrics forward\")\n",
    "print(mean_values.to_frame(name='Mean').T)\n",
    "print()\n",
    "\n",
    "mean_values = filtered_df.loc[filtered_df['orientation'] == 0].mean(numeric_only=True)\n",
    "print(\"Mean metrics reverse\")\n",
    "print(mean_values.to_frame(name='Mean').T)\n",
    "print()\n",
    "\n",
    "\n",
    "print(f\"{len(filtered_df)/ len(merged_df) * 100}% of pool\")\n"
   ]
  },
  {
   "cell_type": "markdown",
   "id": "acd94025",
   "metadata": {},
   "source": [
    "### Convergence"
   ]
  },
  {
   "cell_type": "code",
   "execution_count": 116,
   "id": "efa09ac0",
   "metadata": {},
   "outputs": [],
   "source": [
    "import numpy as np"
   ]
  },
  {
   "cell_type": "code",
   "execution_count": 117,
   "id": "23aac865",
   "metadata": {},
   "outputs": [],
   "source": [
    "def update_tallies(tallies, prediction):\n",
    "\n",
    "    for ind, i in enumerate(prediction):\n",
    "        for j in i:\n",
    "            tallies[ind][j-1] += 1\n",
    "\n",
    "    return tallies\n",
    "\n",
    "def evaluate_motif_tallies(motif_tallies, payload_cycles):\n",
    "    correct = 0\n",
    "    errs = 0\n",
    "    for tallies, cycle in zip(motif_tallies, payload_cycles):\n",
    "        sorted_tallies = np.argsort(tallies)[::-1]\n",
    "        top_4 = [i+1 for i in sorted_tallies[:4]]\n",
    "        correct += len(set(top_4).intersection(set(cycle)))\n",
    "        errs += len(set(top_4) - set(cycle))\n",
    "\n",
    "    return correct / 32"
   ]
  },
  {
   "cell_type": "code",
   "execution_count": 49,
   "id": "f2154fff",
   "metadata": {},
   "outputs": [],
   "source": [
    "test_df = dil"
   ]
  },
  {
   "cell_type": "code",
   "execution_count": null,
   "id": "155b58c7",
   "metadata": {},
   "outputs": [],
   "source": [
    "dil[\"motif_seq\"] =  t"
   ]
  },
  {
   "cell_type": "code",
   "execution_count": 19,
   "id": "2a61adec",
   "metadata": {},
   "outputs": [],
   "source": [
    "mf = t['mf_edit']"
   ]
  },
  {
   "cell_type": "code",
   "execution_count": 20,
   "id": "b67faf46",
   "metadata": {},
   "outputs": [],
   "source": [
    "test_df['mf'] = mf"
   ]
  },
  {
   "cell_type": "code",
   "execution_count": 136,
   "id": "82ae1d12",
   "metadata": {},
   "outputs": [],
   "source": [
    "t1_barcodes = np.arange(2, 81, 4)"
   ]
  },
  {
   "cell_type": "code",
   "execution_count": 88,
   "id": "b1290bab",
   "metadata": {},
   "outputs": [
    {
     "data": {
      "text/plain": [
       "array([46, 66, 74, 78, 47, 67, 75, 79, 48, 68, 76, 80])"
      ]
     },
     "execution_count": 88,
     "metadata": {},
     "output_type": "execute_result"
    }
   ],
   "source": [
    "test_df['ONT_Barcode'].unique()"
   ]
  },
  {
   "cell_type": "code",
   "execution_count": 137,
   "id": "ec96ac44",
   "metadata": {},
   "outputs": [],
   "source": [
    "test_df_ = merged.loc[merged['ONT_Barcode'].isin(t1_barcodes)]"
   ]
  },
  {
   "cell_type": "code",
   "execution_count": 131,
   "id": "80aa8970",
   "metadata": {},
   "outputs": [],
   "source": [
    "from tqdm import tqdm"
   ]
  },
  {
   "cell_type": "code",
   "execution_count": 138,
   "id": "4022cf07",
   "metadata": {},
   "outputs": [
    {
     "name": "stderr",
     "output_type": "stream",
     "text": [
      "100%|██████████| 64/64 [00:00<00:00, 1247.70it/s]\n",
      "100%|██████████| 64/64 [00:00<00:00, 947.64it/s]\n",
      "100%|██████████| 64/64 [00:00<00:00, 1361.64it/s]\n",
      "100%|██████████| 64/64 [00:00<00:00, 1291.19it/s]\n",
      "100%|██████████| 4/4 [00:00<00:00, 17.07it/s]\n"
     ]
    }
   ],
   "source": [
    "# For barcoded runs\n",
    "\n",
    "edit_predictions_arr = []\n",
    "payloads_arr = []\n",
    "batch_size = 8\n",
    "quality_threshold = 12\n",
    "prob_threshold = 0.85\n",
    "\n",
    "# Testing convergence - add quality filtering..\n",
    "for barcode in tqdm(test_df_['ONT_Barcode'].unique()):\n",
    "    u_cycle = 0\n",
    "    for cycle in tqdm(test_df_['HW_Address'].unique()):\n",
    "        selected_df = test_df_.loc[\n",
    "            (test_df_['ONT_Barcode'] == barcode) &\n",
    "            (test_df_['HW_Address'] == cycle)\n",
    "        ]\n",
    "        read_ids = selected_df['read_id'].tolist()\n",
    "        if len(read_ids) == 0:\n",
    "            continue\n",
    "        payload = selected_df['payload'].tolist()[0]\n",
    "        decoded_predictions = selected_df['motif_seq']\n",
    "        edit_predictions_arr.append([i[2:] for i in decoded_predictions])\n",
    "        \n",
    "        payloads_arr.append(payload)\n",
    "        u_cycle += 1\n",
    "        \n"
   ]
  },
  {
   "cell_type": "code",
   "execution_count": null,
   "id": "26dd8227",
   "metadata": {},
   "outputs": [
    {
     "name": "stderr",
     "output_type": "stream",
     "text": [
      "100%|██████████| 64/64 [00:00<00:00, 907.05it/s]\n"
     ]
    }
   ],
   "source": [
    "## For the non barcoded runs\n",
    "\n",
    "search_predictions_arr = []\n",
    "payloads_arr = []\n",
    "batch_size = 8\n",
    "quality_threshold = 12\n",
    "prob_threshold = 0.85\n",
    "\n",
    "\n",
    "for cycle in tqdm(test_df_['HW_Address'].unique()):\n",
    "    selected_df = test_df_.loc[\n",
    "        (test_df['HW_Address'] == cycle) #&\n",
    "        #(test_df['strand'].str.startswith('+')) \n",
    "    ]\n",
    "    read_ids = selected_df['read_id'].tolist()\n",
    "    payload = selected_df['payload'].tolist()[0]\n",
    "    #search_predictions = selected_df['motif_seq'].tolist()\n",
    "    #search_predictions_sorted = [\n",
    "    #    sort_transcript(i) for i in selected_df['motif_seq'].tolist()]\n",
    "    decoded_predictions = [i[2:] for i in selected_df['motif_seq'].tolist()][:150]\n",
    "    \n",
    "    #search_predictions_arr.append(search_predictions_sorted[:len(decoded_predictions)])\n",
    "    search_predictions_arr.append(decoded_predictions)\n",
    "    \n",
    "    payloads_arr.append(payload)\n",
    "    \n"
   ]
  },
  {
   "cell_type": "code",
   "execution_count": 139,
   "id": "4d5d08c6",
   "metadata": {},
   "outputs": [],
   "source": [
    "import heapq\n",
    "from utils import evaluate_prediction\n",
    "\n",
    "def get_top_4_motifs(tallies: dict):\n",
    "    prediction = []\n",
    "    for i in range(len(tallies)):\n",
    "        elems = heapq.nlargest(4, tallies[i].values())\n",
    "        inds = heapq.nlargest(4, tallies[i].keys(), key = lambda x: tallies[i][x])\n",
    "        prediction.append([k for j, k in zip(elems, inds) if j > 0 ])\n",
    "\n",
    "    return prediction\n",
    "\n",
    "#payloads_arr = [eval(i) for i in payloads_arr]\n",
    "\n",
    "\n",
    "search_accs_arr = []\n",
    "caller_accs_arr = []\n",
    "edit_accs_arr = []\n",
    "\n",
    "\n",
    "### Comment out when non-barcoded\n",
    "caller_predictions_arr = edit_predictions_arr\n",
    "search_predictions_arr = edit_predictions_arr\n",
    "\n",
    "for search_prediction, caller_prediction, edit_prediction, payload in zip(\n",
    "    search_predictions_arr, caller_predictions_arr, edit_predictions_arr, payloads_arr):\n",
    "\n",
    "    n_reads = 0\n",
    "    motif_tallies_caller = [{i: 0 for i in range(1, 9)} for i in range(8)]\n",
    "    motif_tallies_search = [{i: 0 for i in range(1, 9)} for i in range(8)]\n",
    "    motif_tallies_edit = [{i: 0 for i in range(1, 9)} for i in range(8)]\n",
    "    search_accs, caller_accs, edit_accs = [], [], []\n",
    "    for i, j, k in zip(search_prediction, caller_prediction, edit_prediction):  # for each prediction\n",
    "        cycle_num = 0\n",
    "        for search_cycle, caller_cycle, edit_cycle in zip(i, j, k):  # loop over cycles and update tallies\n",
    "            for motif in search_cycle:\n",
    "                motif_tallies_search[cycle_num][motif] += 1\n",
    "            for motif in caller_cycle:\n",
    "                motif_tallies_caller[cycle_num][motif] += 1\n",
    "            for motif in edit_cycle:\n",
    "                motif_tallies_edit[cycle_num][motif] += 1\n",
    "            cycle_num += 1\n",
    "\n",
    "        #  Get caller and search predictions\n",
    "        caller_prediction_ = get_top_4_motifs(motif_tallies_caller)\n",
    "        search_prediction_ = get_top_4_motifs(motif_tallies_search)\n",
    "        edit_prediction_ = get_top_4_motifs(motif_tallies_edit)\n",
    "        \n",
    "        n_reads += 1\n",
    "\n",
    "        #print(payload)\n",
    "        #payload = eval(payload)  # comment out for other datasets\n",
    "        #  Evaluate predictions\n",
    "        search_acc = evaluate_prediction(search_prediction_, payload)[0]/32\n",
    "        caller_acc  = evaluate_prediction(caller_prediction_, payload)[0]/32\n",
    "        edit_acc = evaluate_prediction(edit_prediction_, payload)[0]/32\n",
    "        \n",
    "\n",
    "        search_accs.append(search_acc)\n",
    "        caller_accs.append(caller_acc)\n",
    "        edit_accs.append(edit_acc)\n",
    "        \n",
    "    \n",
    "    search_accs_arr.append(search_accs)\n",
    "    caller_accs_arr.append(caller_accs)\n",
    "    edit_accs_arr.append(edit_accs)\n",
    "    \n",
    "\n"
   ]
  },
  {
   "cell_type": "code",
   "execution_count": 140,
   "id": "4aa0bc74",
   "metadata": {},
   "outputs": [
    {
     "data": {
      "text/plain": [
       "np.float64(0.89892578125)"
      ]
     },
     "execution_count": 140,
     "metadata": {},
     "output_type": "execute_result"
    }
   ],
   "source": [
    "np.mean([i[-1] for i in edit_accs_arr])"
   ]
  },
  {
   "cell_type": "code",
   "execution_count": 46,
   "id": "d49fe9f7",
   "metadata": {},
   "outputs": [],
   "source": [
    "avg_search = []\n",
    "avg_caller = []\n",
    "avg_edit = []\n",
    "\n",
    "for i in range(100):\n",
    "\n",
    "    search_sum = 0\n",
    "    search_samples = 0\n",
    "    for k in search_accs_arr:\n",
    "        if i < len(k):\n",
    "            search_sum += k[i]\n",
    "            search_samples += 1\n",
    "    \n",
    "    caller_sum = 0\n",
    "    caller_samples = 0\n",
    "    for k in caller_accs_arr:\n",
    "        if i < len(k):\n",
    "            caller_sum += k[i]\n",
    "            caller_samples += 1\n",
    "\n",
    "    edit_sum = 0\n",
    "    edit_samples = 0\n",
    "    for k in edit_accs_arr:\n",
    "        if i < len(k):\n",
    "            edit_sum += k[i]\n",
    "            edit_samples += 1\n",
    "\n",
    "    avg_search.append(search_sum / search_samples)\n",
    "    #avg_caller.append(caller_sum / caller_samples)\n",
    "    #avg_edit.append(edit_sum / edit_samples)\n",
    "    "
   ]
  },
  {
   "cell_type": "code",
   "execution_count": 47,
   "id": "f285d1b5",
   "metadata": {},
   "outputs": [
    {
     "data": {
      "text/plain": [
       "<matplotlib.legend.Legend at 0x1d49bbf5d60>"
      ]
     },
     "execution_count": 47,
     "metadata": {},
     "output_type": "execute_result"
    },
    {
     "data": {
      "image/png": "[encoded data removed]",
      "text/plain": [
       "<Figure size 640x480 with 1 Axes>"
      ]
     },
     "metadata": {},
     "output_type": "display_data"
    }
   ],
   "source": [
    "import matplotlib.pyplot as plt\n",
    "import numpy as np\n",
    "\n",
    "plt.plot(avg_search, label='zero-error search')\n",
    "plt.plot(avg_caller, label='motif caller')\n",
    "plt.plot(avg_edit, label='edit search')\n",
    "plt.grid()\n",
    "plt.yticks(np.arange(0, 1.01, 0.05))\n",
    "#plt.xticks(np.arange(0, 200, 2))\n",
    "plt.xlim(0, 70)\n",
    "plt.xlabel(\"Number of reads\")\n",
    "plt.ylabel(\"Recovery percentage\")\n",
    "plt.title(\"Convergence of motif-inferring methods\")\n",
    "plt.legend()"
   ]
  },
  {
   "cell_type": "markdown",
   "id": "a769f05f",
   "metadata": {},
   "source": [
    "### Evaluating zero-error search"
   ]
  },
  {
   "cell_type": "code",
   "execution_count": 43,
   "id": "9b964a1f",
   "metadata": {},
   "outputs": [],
   "source": [
    "\n",
    "def sort_library_motif_transcript(library_prediction):\n",
    "    \"\"\"Sorts library motif transcripts while fixing for typos, by looking at the payloads to get the best orientation matches\"\"\"\n",
    "\n",
    "    sorted_prediction = [[] for i in range(10)]\n",
    "\n",
    "    split_library_prediction = library_prediction.split('|')\n",
    "\n",
    "    #print(split_library_prediction)\n",
    "    for i in split_library_prediction:\n",
    "\n",
    "        if len(i) < 8:\n",
    "            continue\n",
    "        # searching for the 10\n",
    "        motif_found = int(i[-1])\n",
    "        cycle_address = None  # starts from 1 there and from 0 here\n",
    "        if i[-4] == '1':\n",
    "            if i[-3] == '0':\n",
    "                cycle_address = 10\n",
    "                sorted_prediction[cycle_address - 1].append(motif_found)\n",
    "        elif i[-4] == '9':\n",
    "            continue\n",
    "        else:\n",
    "            cycle_address = int(i[-3])\n",
    "            sorted_prediction[cycle_address - 1].append(motif_found)\n",
    "\n",
    "    return sorted_prediction\n",
    "    "
   ]
  },
  {
   "cell_type": "code",
   "execution_count": 5,
   "id": "2adc00d0",
   "metadata": {},
   "outputs": [],
   "source": [
    "import pandas as pd"
   ]
  },
  {
   "cell_type": "code",
   "execution_count": 44,
   "id": "1b793f64",
   "metadata": {},
   "outputs": [],
   "source": [
    "ms_df = pd.read_pickle(r\"C:\\Users\\Parv\\Doc\\HelixWorks\\Basecalling\\code\\motifcaller\\data\\empirical\\sequencing_runs\\01-13\\01-13-test.pkl\")"
   ]
  },
  {
   "cell_type": "code",
   "execution_count": 45,
   "id": "d50124f9",
   "metadata": {},
   "outputs": [],
   "source": [
    "lib_motifs = ms_df['library_motif'].tolist()\n",
    "read_id_arr = ms_df['read_id'].tolist()"
   ]
  },
  {
   "cell_type": "code",
   "execution_count": 46,
   "id": "96ea76de",
   "metadata": {},
   "outputs": [
    {
     "name": "stdout",
     "output_type": "stream",
     "text": [
      "Exception at ltm8_5x4|ltm8_6x8|ltm8_7x4|ltm8_10x2|ltm8_10x2|ltm8_0x1|ltm8_1x6|ltm8_99x1|ltm8_98x2|ltm8_94x6|ltm8_93x7|ltm8_90x11|ltm8_89x11\n"
     ]
    }
   ],
   "source": [
    "motif_seq_arr = []\n",
    "read_ids_arr = []\n",
    "\n",
    "for i, j in zip(lib_motifs, read_id_arr):\n",
    "    try:\n",
    "        motif_seq = sort_library_motif_transcript(i)\n",
    "        motif_seq_arr.append(motif_seq)\n",
    "        read_ids_arr.append(j)\n",
    "    except:\n",
    "        print(f\"Exception at {i}\")\n"
   ]
  },
  {
   "cell_type": "code",
   "execution_count": 47,
   "id": "b3772a20",
   "metadata": {},
   "outputs": [],
   "source": [
    "merged_df = pd.merge(ms_df, pd.DataFrame({\n",
    "    \"read_id\": read_ids_arr,\n",
    "    \"motif_seq\": motif_seq_arr\n",
    "}))"
   ]
  },
  {
   "cell_type": "code",
   "execution_count": 22,
   "id": "1e384eca",
   "metadata": {},
   "outputs": [
    {
     "data": {
      "text/html": [
       "<div>\n",
       "<style scoped>\n",
       "    .dataframe tbody tr th:only-of-type {\n",
       "        vertical-align: middle;\n",
       "    }\n",
       "\n",
       "    .dataframe tbody tr th {\n",
       "        vertical-align: top;\n",
       "    }\n",
       "\n",
       "    .dataframe thead th {\n",
       "        text-align: right;\n",
       "    }\n",
       "</style>\n",
       "<table border=\"1\" class=\"dataframe\">\n",
       "  <thead>\n",
       "    <tr style=\"text-align: right;\">\n",
       "      <th></th>\n",
       "      <th>Unnamed: 0</th>\n",
       "      <th>ONT_Barcode</th>\n",
       "      <th>read_id</th>\n",
       "      <th>HW_Address</th>\n",
       "      <th>orientation</th>\n",
       "      <th>start_end</th>\n",
       "      <th>library_motif</th>\n",
       "      <th>payload</th>\n",
       "      <th>squiggle</th>\n",
       "      <th>motif_seq</th>\n",
       "    </tr>\n",
       "  </thead>\n",
       "  <tbody>\n",
       "    <tr>\n",
       "      <th>0</th>\n",
       "      <td>37</td>\n",
       "      <td>barcode93</td>\n",
       "      <td>e3ba2eaf-012a-4126-bdc9-6fd685f227df</td>\n",
       "      <td>barcode_external01_internal08</td>\n",
       "      <td>+|+|+|+|+|+|+|+</td>\n",
       "      <td>81-130|119-143|171-195|223-247|273-297|323-347...</td>\n",
       "      <td>ltm8_1x1|ltm8_98x2|ltm8_97x3|ltm8_96x4|ltm8_95...</td>\n",
       "      <td>[[2, 4, 6, 8], [1, 2, 3, 4], [1, 4, 6, 7], [1,...</td>\n",
       "      <td>[580, 504, 523, 493, 516, 504, 510, 500, 502, ...</td>\n",
       "      <td>[[1], [], [], [1], [7], [], [], [], [], []]</td>\n",
       "    </tr>\n",
       "    <tr>\n",
       "      <th>1</th>\n",
       "      <td>38</td>\n",
       "      <td>barcode93</td>\n",
       "      <td>a1651482-f5b1-44ae-b3c1-cfb20cebe0ef</td>\n",
       "      <td>barcode_external05_internal03</td>\n",
       "      <td>+|+|+|+|+|+|+|+|+|+|+|+|+|+|+|+|+</td>\n",
       "      <td>87-123|124-173|175-224|112-136|213-237|364-388...</td>\n",
       "      <td>ltm8_0x1|ltm8_1x5|ltm8_2x3|ltm8_99x1|ltm8_97x3...</td>\n",
       "      <td>[[1, 4, 6, 8], [2, 4, 5, 8], [1, 4, 6, 7], [2,...</td>\n",
       "      <td>[483, 496, 509, 518, 522, 506, 500, 496, 507, ...</td>\n",
       "      <td>[[5], [3], [], [], [4], [2], [3, 7], [3], [], ...</td>\n",
       "    </tr>\n",
       "    <tr>\n",
       "      <th>2</th>\n",
       "      <td>173</td>\n",
       "      <td>barcode93</td>\n",
       "      <td>bb77081b-39bf-4bcf-b94c-2a2db52ba59e</td>\n",
       "      <td>barcode_external06_internal02</td>\n",
       "      <td>+|+|+|+|+|+|+|+|+|+|+|+|+|+|+|+|+|+|+</td>\n",
       "      <td>81-117|106-130|155-179|206-230|256-280|306-330...</td>\n",
       "      <td>ltm8_0x1|ltm8_99x1|ltm8_98x2|ltm8_97x3|ltm8_96...</td>\n",
       "      <td>[[2, 3, 5, 7], [2, 4, 7, 8], [1, 3, 4, 6], [1,...</td>\n",
       "      <td>[507, 498, 492, 507, 501, 504, 483, 477, 499, ...</td>\n",
       "      <td>[[], [], [3], [4], [3], [3], [4], [6], [4], [1...</td>\n",
       "    </tr>\n",
       "    <tr>\n",
       "      <th>3</th>\n",
       "      <td>216</td>\n",
       "      <td>barcode93</td>\n",
       "      <td>bce5bd0f-304a-4038-ae14-3bda2c982a45</td>\n",
       "      <td>barcode_external05_internal03</td>\n",
       "      <td>-</td>\n",
       "      <td>221-245</td>\n",
       "      <td>ltm8_99x1</td>\n",
       "      <td>[[1, 4, 6, 8], [2, 4, 5, 8], [1, 4, 6, 7], [2,...</td>\n",
       "      <td>[504, 484, 484, 474, 492, 468, 487, 475, 485, ...</td>\n",
       "      <td>[[], [], [], [], [], [], [], [], [], []]</td>\n",
       "    </tr>\n",
       "    <tr>\n",
       "      <th>4</th>\n",
       "      <td>328</td>\n",
       "      <td>barcode93</td>\n",
       "      <td>87c17d40-8da8-4298-940a-353cf44f50a7</td>\n",
       "      <td>barcode_external06_internal02</td>\n",
       "      <td>-|-|-|-|-|-|-|-|-|-|-|-|-|-</td>\n",
       "      <td>544-593|494-543|581-605|531-555|481-505|432-45...</td>\n",
       "      <td>ltm8_1x6|ltm8_2x2|ltm8_99x1|ltm8_98x2|ltm8_97x...</td>\n",
       "      <td>[[2, 3, 5, 7], [2, 4, 7, 8], [1, 3, 4, 6], [1,...</td>\n",
       "      <td>[668, 439, 470, 540, 519, 518, 520, 502, 502, ...</td>\n",
       "      <td>[[6], [2], [], [4], [], [7], [], [1], [], []]</td>\n",
       "    </tr>\n",
       "    <tr>\n",
       "      <th>...</th>\n",
       "      <td>...</td>\n",
       "      <td>...</td>\n",
       "      <td>...</td>\n",
       "      <td>...</td>\n",
       "      <td>...</td>\n",
       "      <td>...</td>\n",
       "      <td>...</td>\n",
       "      <td>...</td>\n",
       "      <td>...</td>\n",
       "      <td>...</td>\n",
       "    </tr>\n",
       "    <tr>\n",
       "      <th>10695</th>\n",
       "      <td>725040</td>\n",
       "      <td>barcode93</td>\n",
       "      <td>ba75236a-5316-4434-83f1-75a3b09c2269</td>\n",
       "      <td>barcode_external05_internal01</td>\n",
       "      <td>+|+|+|+|+|+</td>\n",
       "      <td>164-188|214-238|312-336|176-225|226-275|324-373</td>\n",
       "      <td>ltm8_97x3|ltm8_96x4|ltm8_94x6|ltm8_3x2|ltm8_4x...</td>\n",
       "      <td>[[1, 2, 3, 8], [1, 2, 4, 5], [1, 3, 4, 5], [2,...</td>\n",
       "      <td>[520, 496, 509, 532, 530, 525, 508, 513, 512, ...</td>\n",
       "      <td>[[], [], [2], [4], [], [6], [], [], [], []]</td>\n",
       "    </tr>\n",
       "    <tr>\n",
       "      <th>10696</th>\n",
       "      <td>725079</td>\n",
       "      <td>barcode93</td>\n",
       "      <td>3835fde7-7dfe-405b-9cce-823e51454cd4</td>\n",
       "      <td>barcode_external05_internal01</td>\n",
       "      <td>-</td>\n",
       "      <td>97-121</td>\n",
       "      <td>ltm8_92x8</td>\n",
       "      <td>[[1, 2, 3, 8], [1, 2, 4, 5], [1, 3, 4, 5], [2,...</td>\n",
       "      <td>[344, 385, 393, 387, 397, 394, 389, 304, 280, ...</td>\n",
       "      <td>[[], [], [], [], [], [], [], [], [], []]</td>\n",
       "    </tr>\n",
       "    <tr>\n",
       "      <th>10697</th>\n",
       "      <td>725140</td>\n",
       "      <td>barcode93</td>\n",
       "      <td>cc6a47d1-ee55-47aa-b880-ce9248adacc5</td>\n",
       "      <td>barcode_external01_internal08</td>\n",
       "      <td>+|+|+|+|+|+|+|+|+|+|+</td>\n",
       "      <td>113-162|101-125|151-175|201-225|251-275|349-37...</td>\n",
       "      <td>ltm8_1x1|ltm8_99x1|ltm8_98x2|ltm8_97x3|ltm8_96...</td>\n",
       "      <td>[[2, 4, 6, 8], [1, 2, 3, 4], [1, 4, 6, 7], [1,...</td>\n",
       "      <td>[448, 480, 509, 545, 667, 583, 584, 573, 561, ...</td>\n",
       "      <td>[[1], [], [8], [], [], [], [7], [], [], []]</td>\n",
       "    </tr>\n",
       "    <tr>\n",
       "      <th>10698</th>\n",
       "      <td>725202</td>\n",
       "      <td>barcode93</td>\n",
       "      <td>8e82f6b3-30fd-4031-bd6f-b047ebe561aa</td>\n",
       "      <td>barcode_external01_internal08</td>\n",
       "      <td>+|+|+|+|+|+|+|+</td>\n",
       "      <td>101-150|89-113|139-163|189-213|291-315|388-412...</td>\n",
       "      <td>ltm8_1x1|ltm8_99x1|ltm8_98x2|ltm8_97x3|ltm8_95...</td>\n",
       "      <td>[[2, 4, 6, 8], [1, 2, 3, 4], [1, 4, 6, 7], [1,...</td>\n",
       "      <td>[389, 386, 368, 377, 369, 388, 379, 387, 369, ...</td>\n",
       "      <td>[[1], [], [], [], [], [], [], [], [], []]</td>\n",
       "    </tr>\n",
       "    <tr>\n",
       "      <th>10699</th>\n",
       "      <td>725222</td>\n",
       "      <td>barcode93</td>\n",
       "      <td>d4701ea7-05e7-4217-81f6-333fc18385b5</td>\n",
       "      <td>barcode_external01_internal08</td>\n",
       "      <td>+|+|+</td>\n",
       "      <td>149-173|198-222|346-370</td>\n",
       "      <td>ltm8_98x2|ltm8_97x3|ltm8_94x6</td>\n",
       "      <td>[[2, 4, 6, 8], [1, 2, 3, 4], [1, 4, 6, 7], [1,...</td>\n",
       "      <td>[490, 507, 532, 455, 466, 475, 453, 465, 461, ...</td>\n",
       "      <td>[[], [], [], [], [], [], [], [], [], []]</td>\n",
       "    </tr>\n",
       "  </tbody>\n",
       "</table>\n",
       "<p>10700 rows × 10 columns</p>\n",
       "</div>"
      ],
      "text/plain": [
       "       Unnamed: 0 ONT_Barcode                               read_id  \\\n",
       "0              37   barcode93  e3ba2eaf-012a-4126-bdc9-6fd685f227df   \n",
       "1              38   barcode93  a1651482-f5b1-44ae-b3c1-cfb20cebe0ef   \n",
       "2             173   barcode93  bb77081b-39bf-4bcf-b94c-2a2db52ba59e   \n",
       "3             216   barcode93  bce5bd0f-304a-4038-ae14-3bda2c982a45   \n",
       "4             328   barcode93  87c17d40-8da8-4298-940a-353cf44f50a7   \n",
       "...           ...         ...                                   ...   \n",
       "10695      725040   barcode93  ba75236a-5316-4434-83f1-75a3b09c2269   \n",
       "10696      725079   barcode93  3835fde7-7dfe-405b-9cce-823e51454cd4   \n",
       "10697      725140   barcode93  cc6a47d1-ee55-47aa-b880-ce9248adacc5   \n",
       "10698      725202   barcode93  8e82f6b3-30fd-4031-bd6f-b047ebe561aa   \n",
       "10699      725222   barcode93  d4701ea7-05e7-4217-81f6-333fc18385b5   \n",
       "\n",
       "                          HW_Address                            orientation  \\\n",
       "0      barcode_external01_internal08                        +|+|+|+|+|+|+|+   \n",
       "1      barcode_external05_internal03      +|+|+|+|+|+|+|+|+|+|+|+|+|+|+|+|+   \n",
       "2      barcode_external06_internal02  +|+|+|+|+|+|+|+|+|+|+|+|+|+|+|+|+|+|+   \n",
       "3      barcode_external05_internal03                                      -   \n",
       "4      barcode_external06_internal02            -|-|-|-|-|-|-|-|-|-|-|-|-|-   \n",
       "...                              ...                                    ...   \n",
       "10695  barcode_external05_internal01                            +|+|+|+|+|+   \n",
       "10696  barcode_external05_internal01                                      -   \n",
       "10697  barcode_external01_internal08                  +|+|+|+|+|+|+|+|+|+|+   \n",
       "10698  barcode_external01_internal08                        +|+|+|+|+|+|+|+   \n",
       "10699  barcode_external01_internal08                                  +|+|+   \n",
       "\n",
       "                                               start_end  \\\n",
       "0      81-130|119-143|171-195|223-247|273-297|323-347...   \n",
       "1      87-123|124-173|175-224|112-136|213-237|364-388...   \n",
       "2      81-117|106-130|155-179|206-230|256-280|306-330...   \n",
       "3                                                221-245   \n",
       "4      544-593|494-543|581-605|531-555|481-505|432-45...   \n",
       "...                                                  ...   \n",
       "10695    164-188|214-238|312-336|176-225|226-275|324-373   \n",
       "10696                                             97-121   \n",
       "10697  113-162|101-125|151-175|201-225|251-275|349-37...   \n",
       "10698  101-150|89-113|139-163|189-213|291-315|388-412...   \n",
       "10699                            149-173|198-222|346-370   \n",
       "\n",
       "                                           library_motif  \\\n",
       "0      ltm8_1x1|ltm8_98x2|ltm8_97x3|ltm8_96x4|ltm8_95...   \n",
       "1      ltm8_0x1|ltm8_1x5|ltm8_2x3|ltm8_99x1|ltm8_97x3...   \n",
       "2      ltm8_0x1|ltm8_99x1|ltm8_98x2|ltm8_97x3|ltm8_96...   \n",
       "3                                              ltm8_99x1   \n",
       "4      ltm8_1x6|ltm8_2x2|ltm8_99x1|ltm8_98x2|ltm8_97x...   \n",
       "...                                                  ...   \n",
       "10695  ltm8_97x3|ltm8_96x4|ltm8_94x6|ltm8_3x2|ltm8_4x...   \n",
       "10696                                          ltm8_92x8   \n",
       "10697  ltm8_1x1|ltm8_99x1|ltm8_98x2|ltm8_97x3|ltm8_96...   \n",
       "10698  ltm8_1x1|ltm8_99x1|ltm8_98x2|ltm8_97x3|ltm8_95...   \n",
       "10699                      ltm8_98x2|ltm8_97x3|ltm8_94x6   \n",
       "\n",
       "                                                 payload  \\\n",
       "0      [[2, 4, 6, 8], [1, 2, 3, 4], [1, 4, 6, 7], [1,...   \n",
       "1      [[1, 4, 6, 8], [2, 4, 5, 8], [1, 4, 6, 7], [2,...   \n",
       "2      [[2, 3, 5, 7], [2, 4, 7, 8], [1, 3, 4, 6], [1,...   \n",
       "3      [[1, 4, 6, 8], [2, 4, 5, 8], [1, 4, 6, 7], [2,...   \n",
       "4      [[2, 3, 5, 7], [2, 4, 7, 8], [1, 3, 4, 6], [1,...   \n",
       "...                                                  ...   \n",
       "10695  [[1, 2, 3, 8], [1, 2, 4, 5], [1, 3, 4, 5], [2,...   \n",
       "10696  [[1, 2, 3, 8], [1, 2, 4, 5], [1, 3, 4, 5], [2,...   \n",
       "10697  [[2, 4, 6, 8], [1, 2, 3, 4], [1, 4, 6, 7], [1,...   \n",
       "10698  [[2, 4, 6, 8], [1, 2, 3, 4], [1, 4, 6, 7], [1,...   \n",
       "10699  [[2, 4, 6, 8], [1, 2, 3, 4], [1, 4, 6, 7], [1,...   \n",
       "\n",
       "                                                squiggle  \\\n",
       "0      [580, 504, 523, 493, 516, 504, 510, 500, 502, ...   \n",
       "1      [483, 496, 509, 518, 522, 506, 500, 496, 507, ...   \n",
       "2      [507, 498, 492, 507, 501, 504, 483, 477, 499, ...   \n",
       "3      [504, 484, 484, 474, 492, 468, 487, 475, 485, ...   \n",
       "4      [668, 439, 470, 540, 519, 518, 520, 502, 502, ...   \n",
       "...                                                  ...   \n",
       "10695  [520, 496, 509, 532, 530, 525, 508, 513, 512, ...   \n",
       "10696  [344, 385, 393, 387, 397, 394, 389, 304, 280, ...   \n",
       "10697  [448, 480, 509, 545, 667, 583, 584, 573, 561, ...   \n",
       "10698  [389, 386, 368, 377, 369, 388, 379, 387, 369, ...   \n",
       "10699  [490, 507, 532, 455, 466, 475, 453, 465, 461, ...   \n",
       "\n",
       "                                               motif_seq  \n",
       "0            [[1], [], [], [1], [7], [], [], [], [], []]  \n",
       "1      [[5], [3], [], [], [4], [2], [3, 7], [3], [], ...  \n",
       "2      [[], [], [3], [4], [3], [3], [4], [6], [4], [1...  \n",
       "3               [[], [], [], [], [], [], [], [], [], []]  \n",
       "4          [[6], [2], [], [4], [], [7], [], [1], [], []]  \n",
       "...                                                  ...  \n",
       "10695        [[], [], [2], [4], [], [6], [], [], [], []]  \n",
       "10696           [[], [], [], [], [], [], [], [], [], []]  \n",
       "10697        [[1], [], [8], [], [], [], [7], [], [], []]  \n",
       "10698          [[1], [], [], [], [], [], [], [], [], []]  \n",
       "10699           [[], [], [], [], [], [], [], [], [], []]  \n",
       "\n",
       "[10700 rows x 10 columns]"
      ]
     },
     "execution_count": 22,
     "metadata": {},
     "output_type": "execute_result"
    }
   ],
   "source": [
    "merged_df"
   ]
  },
  {
   "cell_type": "markdown",
   "id": "d2ff5300",
   "metadata": {},
   "source": [
    "### Checking average quality"
   ]
  },
  {
   "cell_type": "code",
   "execution_count": 55,
   "id": "f801dac4",
   "metadata": {},
   "outputs": [],
   "source": [
    "basepath = r\"C:\\Users\\Parv\\Doc\\HelixWorks\\Basecalling\\code\\motifcaller\\data\\empirical\\fastq\\EIC01-01-1280\\FASTQ(pass_fail_logs)\\fail\""
   ]
  },
  {
   "cell_type": "code",
   "execution_count": 34,
   "id": "3f0d5d3b",
   "metadata": {},
   "outputs": [],
   "source": [
    "from Bio import SeqIO\n",
    "import numpy as np\n",
    "import os\n",
    "from tqdm import tqdm"
   ]
  },
  {
   "cell_type": "code",
   "execution_count": 52,
   "id": "2492cec7",
   "metadata": {},
   "outputs": [
    {
     "name": "stderr",
     "output_type": "stream",
     "text": [
      " 10%|▉         | 53/544 [00:10<01:39,  4.93it/s]\n"
     ]
    },
    {
     "ename": "KeyboardInterrupt",
     "evalue": "",
     "output_type": "error",
     "traceback": [
      "\u001b[1;31m---------------------------------------------------------------------------\u001b[0m",
      "\u001b[1;31mTypeError\u001b[0m                                 Traceback (most recent call last)",
      "File \u001b[1;32mc:\\Users\\Parv\\anaconda3\\envs\\pytorch_gpu\\Lib\\site-packages\\Bio\\File.py:72\u001b[0m, in \u001b[0;36mas_handle\u001b[1;34m(handleish, mode, **kwargs)\u001b[0m\n\u001b[0;32m     71\u001b[0m \u001b[38;5;28;01mtry\u001b[39;00m:\n\u001b[1;32m---> 72\u001b[0m     \u001b[38;5;28;01mwith\u001b[39;00m \u001b[38;5;28;43mopen\u001b[39;49m\u001b[43m(\u001b[49m\u001b[43mhandleish\u001b[49m\u001b[43m,\u001b[49m\u001b[43m \u001b[49m\u001b[43mmode\u001b[49m\u001b[43m,\u001b[49m\u001b[43m \u001b[49m\u001b[38;5;241;43m*\u001b[39;49m\u001b[38;5;241;43m*\u001b[39;49m\u001b[43mkwargs\u001b[49m\u001b[43m)\u001b[49m \u001b[38;5;28;01mas\u001b[39;00m fp:\n\u001b[0;32m     73\u001b[0m         \u001b[38;5;28;01myield\u001b[39;00m fp\n",
      "\u001b[1;31mTypeError\u001b[0m: expected str, bytes or os.PathLike object, not TextIOWrapper",
      "\nDuring handling of the above exception, another exception occurred:\n",
      "\u001b[1;31mKeyboardInterrupt\u001b[0m                         Traceback (most recent call last)",
      "Cell \u001b[1;32mIn[52], line 5\u001b[0m\n\u001b[0;32m      3\u001b[0m avg_qs \u001b[38;5;241m=\u001b[39m []\n\u001b[0;32m      4\u001b[0m \u001b[38;5;28;01mfor\u001b[39;00m file \u001b[38;5;129;01min\u001b[39;00m tqdm(os\u001b[38;5;241m.\u001b[39mlistdir(basepath)):\n\u001b[1;32m----> 5\u001b[0m \u001b[43m    \u001b[49m\u001b[38;5;28;43;01mfor\u001b[39;49;00m\u001b[43m \u001b[49m\u001b[43mrecord\u001b[49m\u001b[43m \u001b[49m\u001b[38;5;129;43;01min\u001b[39;49;00m\u001b[43m \u001b[49m\u001b[43mSeqIO\u001b[49m\u001b[38;5;241;43m.\u001b[39;49m\u001b[43mparse\u001b[49m\u001b[43m(\u001b[49m\u001b[43mos\u001b[49m\u001b[38;5;241;43m.\u001b[39;49m\u001b[43mpath\u001b[49m\u001b[38;5;241;43m.\u001b[39;49m\u001b[43mjoin\u001b[49m\u001b[43m(\u001b[49m\u001b[43mbasepath\u001b[49m\u001b[43m,\u001b[49m\u001b[43m \u001b[49m\u001b[43mfile\u001b[49m\u001b[43m)\u001b[49m\u001b[43m,\u001b[49m\u001b[43m \u001b[49m\u001b[38;5;124;43m\"\u001b[39;49m\u001b[38;5;124;43mfastq\u001b[39;49m\u001b[38;5;124;43m\"\u001b[39;49m\u001b[43m)\u001b[49m\u001b[43m:\u001b[49m\n\u001b[0;32m      6\u001b[0m \u001b[43m        \u001b[49m\u001b[43mscore\u001b[49m\u001b[38;5;241;43m=\u001b[39;49m\u001b[43mrecord\u001b[49m\u001b[38;5;241;43m.\u001b[39;49m\u001b[43mletter_annotations\u001b[49m\u001b[43m[\u001b[49m\u001b[38;5;124;43m\"\u001b[39;49m\u001b[38;5;124;43mphred_quality\u001b[39;49m\u001b[38;5;124;43m\"\u001b[39;49m\u001b[43m]\u001b[49m\n\u001b[0;32m      7\u001b[0m \u001b[43m        \u001b[49m\u001b[43mavg_qs\u001b[49m\u001b[38;5;241;43m.\u001b[39;49m\u001b[43mappend\u001b[49m\u001b[43m(\u001b[49m\u001b[43mnp\u001b[49m\u001b[38;5;241;43m.\u001b[39;49m\u001b[43mmean\u001b[49m\u001b[43m(\u001b[49m\u001b[43mscore\u001b[49m\u001b[43m)\u001b[49m\u001b[43m)\u001b[49m\n",
      "File \u001b[1;32mc:\\Users\\Parv\\anaconda3\\envs\\pytorch_gpu\\Lib\\site-packages\\Bio\\SeqIO\\Interfaces.py:91\u001b[0m, in \u001b[0;36mSequenceIterator.__next__\u001b[1;34m(self)\u001b[0m\n\u001b[0;32m     89\u001b[0m \u001b[38;5;250m\u001b[39m\u001b[38;5;124;03m\"\"\"Return the next entry.\"\"\"\u001b[39;00m\n\u001b[0;32m     90\u001b[0m \u001b[38;5;28;01mtry\u001b[39;00m:\n\u001b[1;32m---> 91\u001b[0m     \u001b[38;5;28;01mreturn\u001b[39;00m \u001b[38;5;28;43mnext\u001b[39;49m\u001b[43m(\u001b[49m\u001b[38;5;28;43mself\u001b[39;49m\u001b[38;5;241;43m.\u001b[39;49m\u001b[43mrecords\u001b[49m\u001b[43m)\u001b[49m\n\u001b[0;32m     92\u001b[0m \u001b[38;5;28;01mexcept\u001b[39;00m \u001b[38;5;167;01mException\u001b[39;00m:\n\u001b[0;32m     93\u001b[0m     \u001b[38;5;28;01mif\u001b[39;00m \u001b[38;5;28mself\u001b[39m\u001b[38;5;241m.\u001b[39mshould_close_stream:\n",
      "File \u001b[1;32mc:\\Users\\Parv\\anaconda3\\envs\\pytorch_gpu\\Lib\\site-packages\\Bio\\SeqIO\\QualityIO.py:1099\u001b[0m, in \u001b[0;36mFastqPhredIterator.iterate\u001b[1;34m(self, handle)\u001b[0m\n\u001b[0;32m   1089\u001b[0m \u001b[38;5;66;03m# Originally, I used a list expression for each record:\u001b[39;00m\n\u001b[0;32m   1090\u001b[0m \u001b[38;5;66;03m#\u001b[39;00m\n\u001b[0;32m   1091\u001b[0m \u001b[38;5;66;03m# qualities = [ord(letter)-SANGER_SCORE_OFFSET for letter in quality_string]\u001b[39;00m\n\u001b[0;32m   1092\u001b[0m \u001b[38;5;66;03m#\u001b[39;00m\n\u001b[0;32m   1093\u001b[0m \u001b[38;5;66;03m# Precomputing is faster, perhaps partly by avoiding the subtractions.\u001b[39;00m\n\u001b[0;32m   1094\u001b[0m q_mapping \u001b[38;5;241m=\u001b[39m {\n\u001b[0;32m   1095\u001b[0m     \u001b[38;5;28mchr\u001b[39m(letter): letter \u001b[38;5;241m-\u001b[39m SANGER_SCORE_OFFSET\n\u001b[0;32m   1096\u001b[0m     \u001b[38;5;28;01mfor\u001b[39;00m letter \u001b[38;5;129;01min\u001b[39;00m \u001b[38;5;28mrange\u001b[39m(SANGER_SCORE_OFFSET, \u001b[38;5;241m94\u001b[39m \u001b[38;5;241m+\u001b[39m SANGER_SCORE_OFFSET)\n\u001b[0;32m   1097\u001b[0m }\n\u001b[1;32m-> 1099\u001b[0m \u001b[43m\u001b[49m\u001b[38;5;28;43;01mfor\u001b[39;49;00m\u001b[43m \u001b[49m\u001b[43mtitle_line\u001b[49m\u001b[43m,\u001b[49m\u001b[43m \u001b[49m\u001b[43mseq_string\u001b[49m\u001b[43m,\u001b[49m\u001b[43m \u001b[49m\u001b[43mquality_string\u001b[49m\u001b[43m \u001b[49m\u001b[38;5;129;43;01min\u001b[39;49;00m\u001b[43m \u001b[49m\u001b[43mFastqGeneralIterator\u001b[49m\u001b[43m(\u001b[49m\u001b[43mhandle\u001b[49m\u001b[43m)\u001b[49m\u001b[43m:\u001b[49m\n\u001b[0;32m   1100\u001b[0m \u001b[43m    \u001b[49m\u001b[43mdescr\u001b[49m\u001b[43m \u001b[49m\u001b[38;5;241;43m=\u001b[39;49m\u001b[43m \u001b[49m\u001b[43mtitle_line\u001b[49m\n\u001b[0;32m   1101\u001b[0m \u001b[43m    \u001b[49m\u001b[38;5;28;43mid\u001b[39;49m\u001b[43m \u001b[49m\u001b[38;5;241;43m=\u001b[39;49m\u001b[43m \u001b[49m\u001b[43mdescr\u001b[49m\u001b[38;5;241;43m.\u001b[39;49m\u001b[43msplit\u001b[49m\u001b[43m(\u001b[49m\u001b[43m)\u001b[49m\u001b[43m[\u001b[49m\u001b[38;5;241;43m0\u001b[39;49m\u001b[43m]\u001b[49m\n",
      "File \u001b[1;32mc:\\Users\\Parv\\anaconda3\\envs\\pytorch_gpu\\Lib\\site-packages\\Bio\\SeqIO\\QualityIO.py:942\u001b[0m, in \u001b[0;36mFastqGeneralIterator\u001b[1;34m(source)\u001b[0m\n\u001b[0;32m    939\u001b[0m seq_string \u001b[38;5;241m=\u001b[39m \u001b[38;5;124m\"\u001b[39m\u001b[38;5;124m\"\u001b[39m\n\u001b[0;32m    940\u001b[0m \u001b[38;5;66;03m# There will now be one or more sequence lines; keep going until we\u001b[39;00m\n\u001b[0;32m    941\u001b[0m \u001b[38;5;66;03m# find the \"+\" marking the quality line:\u001b[39;00m\n\u001b[1;32m--> 942\u001b[0m \u001b[43m\u001b[49m\u001b[38;5;28;43;01mfor\u001b[39;49;00m\u001b[43m \u001b[49m\u001b[43mline\u001b[49m\u001b[43m \u001b[49m\u001b[38;5;129;43;01min\u001b[39;49;00m\u001b[43m \u001b[49m\u001b[43mhandle\u001b[49m\u001b[43m:\u001b[49m\n\u001b[0;32m    943\u001b[0m \u001b[43m    \u001b[49m\u001b[38;5;28;43;01mif\u001b[39;49;00m\u001b[43m \u001b[49m\u001b[43mline\u001b[49m\u001b[43m[\u001b[49m\u001b[38;5;241;43m0\u001b[39;49m\u001b[43m]\u001b[49m\u001b[43m \u001b[49m\u001b[38;5;241;43m==\u001b[39;49m\u001b[43m \u001b[49m\u001b[38;5;124;43m\"\u001b[39;49m\u001b[38;5;124;43m+\u001b[39;49m\u001b[38;5;124;43m\"\u001b[39;49m\u001b[43m:\u001b[49m\n\u001b[0;32m    944\u001b[0m \u001b[43m        \u001b[49m\u001b[38;5;28;43;01mbreak\u001b[39;49;00m\n",
      "File \u001b[1;32m<frozen codecs>:319\u001b[0m, in \u001b[0;36mdecode\u001b[1;34m(self, input, final)\u001b[0m\n",
      "\u001b[1;31mKeyboardInterrupt\u001b[0m: "
     ]
    }
   ],
   "source": [
    "\n",
    "from Bio import SeqIO\n",
    "\n",
    "avg_qs = []\n",
    "for file in tqdm(os.listdir(basepath)):\n",
    "    for record in SeqIO.parse(os.path.join(basepath, file), \"fastq\"):\n",
    "        score=record.letter_annotations[\"phred_quality\"]\n",
    "        avg_qs.append(np.mean(score))\n",
    "    "
   ]
  },
  {
   "cell_type": "code",
   "execution_count": 53,
   "id": "8faf6919",
   "metadata": {},
   "outputs": [
    {
     "data": {
      "text/plain": [
       "np.float64(20.855998563182613)"
      ]
     },
     "execution_count": 53,
     "metadata": {},
     "output_type": "execute_result"
    }
   ],
   "source": [
    "np.mean(avg_qs)"
   ]
  },
  {
   "cell_type": "code",
   "execution_count": 54,
   "id": "589eac5e",
   "metadata": {},
   "outputs": [
    {
     "name": "stderr",
     "output_type": "stream",
     "text": [
      "100%|██████████| 544/544 [00:00<00:00, 17000.22it/s]\n"
     ]
    }
   ],
   "source": [
    "pass_sizes = []\n",
    "fail_sizes = []\n",
    "\n",
    "for file in tqdm(os.listdir(basepath)):\n",
    "    pass_sizes.append(os.path.getsize(os.path.join(basepath, file)))"
   ]
  },
  {
   "cell_type": "code",
   "execution_count": 57,
   "id": "98cccc42",
   "metadata": {},
   "outputs": [
    {
     "name": "stderr",
     "output_type": "stream",
     "text": [
      "100%|██████████| 544/544 [00:00<00:00, 13952.12it/s]\n"
     ]
    }
   ],
   "source": [
    "\n",
    "fail_sizes = []\n",
    "for file in tqdm(os.listdir(basepath)[:544]):\n",
    "    fail_sizes.append(os.path.getsize(os.path.join(basepath, file)))"
   ]
  },
  {
   "cell_type": "code",
   "execution_count": 58,
   "id": "c07d8a21",
   "metadata": {},
   "outputs": [
    {
     "data": {
      "text/plain": [
       "np.float64(0.6383195336922252)"
      ]
     },
     "execution_count": 58,
     "metadata": {},
     "output_type": "execute_result"
    }
   ],
   "source": [
    "np.mean(pass_sizes) / (np.mean(pass_sizes) + np.mean(fail_sizes))"
   ]
  },
  {
   "cell_type": "code",
   "execution_count": 19,
   "id": "71785220",
   "metadata": {},
   "outputs": [
    {
     "data": {
      "text/plain": [
       "np.float64(22.354282676989925)"
      ]
     },
     "execution_count": 19,
     "metadata": {},
     "output_type": "execute_result"
    }
   ],
   "source": [
    "np.mean(qualities)"
   ]
  },
  {
   "cell_type": "code",
   "execution_count": 1,
   "id": "3929174d",
   "metadata": {},
   "outputs": [],
   "source": [
    "import pandas as pd\n",
    "\n",
    "\n",
    "motif_search_coded = pd.read_csv(r\"C:\\Users\\Parv\\Doc\\HelixWorks\\Basecalling\\code\\motifcaller\\data\\empirical\\motif_search_barcoded.csv\")"
   ]
  },
  {
   "cell_type": "code",
   "execution_count": null,
   "id": "4e8ca540",
   "metadata": {},
   "outputs": [],
   "source": []
  }
 ],
 "metadata": {
  "kernelspec": {
   "display_name": "pytorch_gpu",
   "language": "python",
   "name": "python3"
  },
  "language_info": {
   "codemirror_mode": {
    "name": "ipython",
    "version": 3
   },
   "file_extension": ".py",
   "mimetype": "text/x-python",
   "name": "python",
   "nbconvert_exporter": "python",
   "pygments_lexer": "ipython3",
   "version": "3.12.3"
  }
 },
 "nbformat": 4,
 "nbformat_minor": 5
}
